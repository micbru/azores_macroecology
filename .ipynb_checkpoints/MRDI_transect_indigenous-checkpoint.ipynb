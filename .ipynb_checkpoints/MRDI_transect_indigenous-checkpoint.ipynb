{
 "cells": [
  {
   "cell_type": "markdown",
   "metadata": {},
   "source": [
    "Repeat the individual transect level MRDI analysis, but with indigenous and introduced species separate."
   ]
  },
  {
   "cell_type": "code",
   "execution_count": 1,
   "metadata": {},
   "outputs": [],
   "source": [
    "import numpy as np\n",
    "import pandas as pd\n",
    "import scipy.stats as st\n",
    "import matplotlib.pyplot as plt\n",
    "import sad_mrdi as sm\n",
    "%matplotlib inline"
   ]
  },
  {
   "cell_type": "code",
   "execution_count": 2,
   "metadata": {},
   "outputs": [
    {
     "name": "stdout",
     "output_type": "stream",
     "text": [
      "Not categorized: 2\n"
     ]
    }
   ],
   "source": [
    "# Import data\n",
    "ad = pd.read_csv('./RawData/Azores_Adults.csv',header=[0,1])\n",
    "\n",
    "# Now separate out\n",
    "# Strip extra whitespace\n",
    "ad['Data','N/E/I'] = ad['Data','N/E/I'].str.strip()\n",
    "# Get indices for N/E\n",
    "indigenous_inds = np.any([ad['Data','N/E/I'] =='N',ad['Data','N/E/I'] == 'E'],axis=0)\n",
    "introduced_inds = (ad['Data','N/E/I'] =='I').values\n",
    "\n",
    "# Check how many aren't categorized\n",
    "print(\"Not categorized: {}\".format(len(ad)-len(ad[indigenous_inds])-len(ad[introduced_inds])))"
   ]
  },
  {
   "cell_type": "code",
   "execution_count": 3,
   "metadata": {},
   "outputs": [
    {
     "name": "stdout",
     "output_type": "stream",
     "text": [
      "Number of species: 226\n",
      "Number of individuals: 36269\n",
      "Number of indigenous species: 98\n",
      "Number of introduced species: 126\n"
     ]
    }
   ],
   "source": [
    "# More preamble\n",
    "# Some more preamble and calculating some state variables\n",
    "# Get total s0\n",
    "s0 = len(ad)\n",
    "print('Number of species: {}'.format(s0)) \n",
    "lu = list(ad.columns.levels[0])\n",
    "lu.remove('Data')\n",
    "\n",
    "# Get length to use to loop over etc.\n",
    "lutypes = len(lu)\n",
    "# Get how many sites for each land use\n",
    "lu_sites = pd.Series(index=lu,dtype=int)\n",
    "for l in lu:\n",
    "    lu_sites[l] = len(ad[l].columns)\n",
    "\n",
    "# Reorder to disturbance gradient\n",
    "lu = [lu[2],lu[0],lu[3],lu[1]]\n",
    "# Get total n0\n",
    "n0 = ad[lu].sum().sum()\n",
    "print('Number of individuals: {}'.format(n0))\n",
    "\n",
    "# How many indigenous versus introduced species?\n",
    "n0_indigenous = np.sum(indigenous_inds)\n",
    "n0_introduced = np.sum(introduced_inds)\n",
    "print('Number of indigenous species: {}'.format(n0_indigenous))\n",
    "print('Number of introduced species: {}'.format(n0_introduced))\n",
    "# Note now only 2 species aren't defined, since we have fewer species in this dataset."
   ]
  },
  {
   "cell_type": "code",
   "execution_count": 4,
   "metadata": {
    "scrolled": false
   },
   "outputs": [
    {
     "name": "stderr",
     "output_type": "stream",
     "text": [
      "/Users/micbru/Documents/Research/2020Azores/CleanCode/sad_mrdi.py:41: RuntimeWarning: invalid value encountered in double_scalars\n",
      "  return expnb.sum()/(expnb/nrange).sum()-N/S\n",
      "/Users/micbru/Documents/Research/2020Azores/CleanCode/sad_mrdi.py:41: RuntimeWarning: invalid value encountered in long_scalars\n",
      "  return expnb.sum()/(expnb/nrange).sum()-N/S\n",
      "/Users/micbru/anaconda3/lib/python3.6/site-packages/scipy/optimize/minpack.py:175: RuntimeWarning: The iteration is not making good progress, as measured by the \n",
      "  improvement from the last ten iterations.\n",
      "  warnings.warn(msg, RuntimeWarning)\n"
     ]
    }
   ],
   "source": [
    "# Get list of sites, ignoring first 9 indices which are data information\n",
    "ls = ad.columns[9:]\n",
    "\n",
    "# Make arrays using ls instead of lu\n",
    "# For s,n,beta. Later e0 and lambdas.\n",
    "sne_idg = pd.DataFrame(index=ls,columns = {'s0','n0','beta'})\n",
    "sne_int = pd.DataFrame(index=ls,columns = {'s0','n0','beta'})\n",
    "# For abundances\n",
    "abd_idg = pd.DataFrame(columns=ls)\n",
    "abd_int = pd.DataFrame(columns=ls)\n",
    "for l in ls:\n",
    "    abd_idg[l] = ad[l].iloc[indigenous_inds]\n",
    "    abd_int[l] = ad[l].iloc[introduced_inds]\n",
    "    \n",
    "    # Indigenous\n",
    "    # Get n0 and s0\n",
    "    stemp = np.count_nonzero(abd_idg[l])\n",
    "    ntemp = abd_idg[l].sum()\n",
    "    # Get beta\n",
    "    btemp = sm.get_beta(stemp,ntemp)\n",
    "    # Add to dataframe\n",
    "    sne_idg.loc[l] = {'n0': ntemp, 's0': stemp, 'beta': btemp}\n",
    "    \n",
    "    # Introduced\n",
    "    # Get n0 and s0\n",
    "    stemp = np.count_nonzero(abd_int[l])\n",
    "    ntemp = abd_int[l].sum()\n",
    "    # Get beta\n",
    "    btemp = sm.get_beta(stemp,ntemp)\n",
    "    # Add to dataframe\n",
    "    sne_int.loc[l] = {'n0': ntemp, 's0': stemp, 'beta': btemp}\n",
    "\n",
    "# Rename indexes for abundaces to species code\n",
    "abd_idg.rename(index=ad['Data','MF'],inplace=True)\n",
    "abd_idg.index.name = 'MF'\n",
    "abd_int.rename(index=ad['Data','MF'],inplace=True)\n",
    "abd_int.index.name = 'MF'\n",
    "\n",
    "# Fix datatype for sn_lu\n",
    "sne_idg = sne_idg.astype({'s0': 'int64','n0':'int64','beta':'float64'})\n",
    "sne_int = sne_int.astype({'s0': 'int64','n0':'int64','beta':'float64'})"
   ]
  },
  {
   "cell_type": "markdown",
   "metadata": {},
   "source": [
    "# Simulate datasets"
   ]
  },
  {
   "cell_type": "code",
   "execution_count": 5,
   "metadata": {},
   "outputs": [],
   "source": [
    "# Set up regression relationships from BodyMassVariance.ipynb\n",
    "# Note these are for the log relationship\n",
    "# For beetles\n",
    "bi = -1.243073857459273\n",
    "bs = 1.9948767678521848\n",
    "# For spiders\n",
    "si = -1.1467463900692998\n",
    "ss = 2.2207391333864335"
   ]
  },
  {
   "cell_type": "code",
   "execution_count": 6,
   "metadata": {},
   "outputs": [],
   "source": [
    "# Set random seed\n",
    "prng = np.random.RandomState(101)\n",
    "# Make a dictionary with labeled land uses\n",
    "biomass_idg = {}\n",
    "biomass_int = {}\n",
    "for l in ls:\n",
    "    # Indigenous\n",
    "    # Find args for this land use where the abundance is non-zero\n",
    "    args_temp = np.where(abd_idg[l])[0]\n",
    "    # Get abundances just for this site\n",
    "    abd_temp = abd_idg[l].iloc[args_temp]\n",
    "    # Now simulate that number of points for each species\n",
    "    biomass_idg[l] = np.array([])\n",
    "    for mf in abd_temp.index:\n",
    "        # pull abd_temp[mf] number of points from a normal distribution\n",
    "        # where the mean is given by the mean in the main dataset\n",
    "        # and the standard deviation is given by the regression relationships above\n",
    "        mean = ad[ad['Data','MF']==mf]['Data','Body_Mass.mg.']\n",
    "        # Use the beetle regression\n",
    "        if (ad[ad['Data','MF']==mf]['Data','Order (new)'].values[0]=='Araneae'):\n",
    "            var = 10**(si+ss*np.log10(mean))\n",
    "        else:\n",
    "            var = 10**(bi+bs*np.log10(mean))\n",
    "        biomass_idg[l] = np.append(biomass_idg[l],\n",
    "                               st.norm.rvs(loc=mean,scale=np.sqrt(var),size=abd_temp[mf],random_state=prng))\n",
    "    # Introduced\n",
    "    # Find args for this land use where the abundance is non-zero\n",
    "    args_temp = np.where(abd_int[l])[0]\n",
    "    # Get abundances just for this site\n",
    "    abd_temp = abd_int[l].iloc[args_temp]\n",
    "    # Now simulate that number of points for each species\n",
    "    biomass_int[l] = np.array([])\n",
    "    for mf in abd_temp.index:\n",
    "        # pull abd_temp[mf] number of points from a normal distribution\n",
    "        # where the mean is given by the mean in the main dataset\n",
    "        # and the standard deviation is given by the regression relationships above\n",
    "        mean = ad[ad['Data','MF']==mf]['Data','Body_Mass.mg.']\n",
    "        # Use the beetle regression\n",
    "        if (ad[ad['Data','MF']==mf]['Data','Order (new)'].values[0]=='Araneae'):\n",
    "            var = 10**(si+ss*np.log10(mean))\n",
    "        else:\n",
    "            var = 10**(bi+bs*np.log10(mean))\n",
    "        biomass_int[l] = np.append(biomass_int[l],\n",
    "                               st.norm.rvs(loc=mean,scale=np.sqrt(var),size=abd_temp[mf],random_state=prng))"
   ]
  },
  {
   "cell_type": "code",
   "execution_count": 7,
   "metadata": {},
   "outputs": [
    {
     "name": "stdout",
     "output_type": "stream",
     "text": [
      "Problem point [-0.13374193]\n",
      "Should be empty []\n",
      "Previous minimum 0.09132743984038377\n",
      "Newly added [0.09327471]\n",
      "\n"
     ]
    }
   ],
   "source": [
    "# Fix the smallest ones and remove problem points\n",
    "for l in ls:\n",
    "    inds = biomass_idg[l]<0\n",
    "    if np.any(inds):\n",
    "        print(\"Problem point\",biomass_idg[l][biomass_idg[l]<0])\n",
    "        # To avoid duplicates, add a tiny noise to this.\n",
    "        biomass_idg[l][inds] = np.min(biomass_idg[l][~inds])*(1+0.01*st.norm.rvs(random_state=prng))\n",
    "        print(\"Should be empty\",biomass_idg[l][biomass_idg[l]<0])\n",
    "        print(\"Previous minimum\",np.min(biomass_idg[l][~inds]))\n",
    "        print(\"Newly added\",biomass_idg[l][inds])\n",
    "        print()\n",
    "    inds = biomass_int[l]<0\n",
    "    if np.any(inds):\n",
    "        print(\"Problem point\",biomass_int[l][biomass_int[l]<0])\n",
    "        # To avoid duplicates, add a tiny noise to this.\n",
    "        biomass_int[l][inds] = np.min(biomass_int[l][~inds])*(1+0.01*st.norm.rvs(random_state=prng))\n",
    "        print(\"Should be empty\",biomass_int[l][biomass_int[l]<0])\n",
    "        print(\"Previous minimum\",np.min(biomass_int[l][~inds]))\n",
    "        print(\"Newly added\",biomass_int[l][inds])\n",
    "        print()"
   ]
  },
  {
   "cell_type": "code",
   "execution_count": 8,
   "metadata": {},
   "outputs": [],
   "source": [
    "# Now convert to metabolic rate\n",
    "mr_idg = biomass_idg.copy()\n",
    "mr_int = biomass_int.copy()\n",
    "for l in ls:\n",
    "    # Indigenous\n",
    "    if mr_idg[l].size!=0:\n",
    "        # Now sort the array, convert to metabolic rate (m \\propto e^(4/3)), and divide by smallest\n",
    "        # Order doesn't matter here\n",
    "        mr_idg[l] = np.sort(mr_idg[l]**(3/4))\n",
    "        # Note that this way, the e0 between the land uses actually isn't comparable \n",
    "        #because the smallest unit is different\n",
    "        mr_idg[l] = mr_idg[l]/mr_idg[l][0]\n",
    "    \n",
    "    # Introduced\n",
    "    # Need a catch because there is a size 0 in one site\n",
    "    if mr_int[l].size!=0:\n",
    "        mr_int[l] = np.sort(mr_int[l]**(3/4))\n",
    "        mr_int[l] = mr_int[l]/mr_int[l][0]\n",
    "    \n",
    "# Get E0\n",
    "for l in ls:\n",
    "    sne_idg.loc[l,'e0'] = mr_idg[l].sum()\n",
    "    sne_int.loc[l,'e0'] = mr_int[l].sum()\n",
    "\n",
    "sne_idg['l2'] = sne_idg['s0']/(sne_idg['e0']-sne_idg['n0'])\n",
    "sne_idg['l1'] = sne_idg['beta']-sne_idg['l2']\n",
    "\n",
    "sne_int['l2'] = sne_int['s0']/(sne_int['e0']-sne_int['n0'])\n",
    "sne_int['l1'] = sne_int['beta']-sne_int['l2']"
   ]
  },
  {
   "cell_type": "code",
   "execution_count": 9,
   "metadata": {},
   "outputs": [],
   "source": [
    "# Check for duplicates\n",
    "for l in ls:\n",
    "    if len(np.unique(mr_idg[l])) != len(mr_idg[l]):\n",
    "        print(\"Ruh roh!\")\n",
    "    if len(np.unique(mr_int[l])) != len(mr_int[l]):\n",
    "        print(\"Ruh roh!\")"
   ]
  },
  {
   "cell_type": "markdown",
   "metadata": {},
   "source": [
    "# LEAST SQUARES\n",
    "Let's just do this for the indigenous/introduced so as not to have a billion plots."
   ]
  },
  {
   "cell_type": "markdown",
   "metadata": {},
   "source": [
    "## Goodness of fit and summary plots"
   ]
  },
  {
   "cell_type": "code",
   "execution_count": 10,
   "metadata": {},
   "outputs": [
    {
     "name": "stderr",
     "output_type": "stream",
     "text": [
      "/Users/micbru/Documents/Research/2020Azores/CleanCode/sad_mrdi.py:79: RuntimeWarning: invalid value encountered in double_scalars\n",
      "  logarg = ((np.exp(l[0]+l[1])-1)*N+r-1/2)/(r-1/2)\n",
      "/Users/micbru/anaconda3/lib/python3.6/site-packages/ipykernel_launcher.py:25: RuntimeWarning: invalid value encountered in double_scalars\n",
      "/Users/micbru/Documents/Research/2020Azores/CleanCode/sad_mrdi.py:80: RuntimeWarning: invalid value encountered in log\n",
      "  return (np.log(logarg) - l[0])/l[1]\n"
     ]
    }
   ],
   "source": [
    "# Use mean least squares\n",
    "mlsq_idg = pd.Series(index=ls,dtype='float64')\n",
    "mlsq_int = pd.Series(index=ls,dtype='float64')\n",
    "for l in ls:\n",
    "    # Indigenous\n",
    "    ranks = np.arange(sne_idg.loc[l,'n0'])+1\n",
    "    pred = sm.mrdi_rank(ranks,(sne_idg.loc[l,'l1'],sne_idg.loc[l,'l2']),sne_idg.loc[l,'n0'])\n",
    "    obs = mr_idg[l][::-1]\n",
    "    # If we have any less than 0, ignore that because n0 is too small.\n",
    "    if np.any(pred <= 0):\n",
    "        mlsq_idg[l] = np.nan\n",
    "    elif sne_idg['n0'][l] == len(obs):\n",
    "        mlsq_idg[l] = np.sum((np.log(obs)-np.log(pred))**2)/len(obs)\n",
    "    else:\n",
    "        print(\"Ruh ro!\")\n",
    "        \n",
    "    # Introduced\n",
    "    ranks = np.arange(sne_int.loc[l,'n0'])+1\n",
    "    pred = sm.mrdi_rank(ranks,(sne_int.loc[l,'l1'],sne_int.loc[l,'l2']),sne_int.loc[l,'n0'])\n",
    "    obs = mr_int[l][::-1]\n",
    "    # If we have any less than 0, ignore that because n0 is too small.\n",
    "    if np.any(pred <= 0):\n",
    "        mlsq_int[l] = np.nan\n",
    "    elif sne_int['n0'][l] == len(obs):\n",
    "        mlsq_int[l] = np.sum((np.log(obs)-np.log(pred))**2)/len(obs)\n",
    "    else:\n",
    "        print(\"Ruh ro!\")\n",
    "\n",
    "# modify number of sites with number of nans\n",
    "lu_sites_alt = lu_sites.copy()\n",
    "lu_sites_alt_idg = lu_sites_alt - mlsq_idg.isna().sum(level=0)\n",
    "lu_sites_alt_int = lu_sites_alt - mlsq_int.isna().sum(level=0)\n",
    "        \n",
    "sne_idg['mlsq'] = mlsq_idg\n",
    "sne_int['mlsq'] = mlsq_int"
   ]
  },
  {
   "cell_type": "code",
   "execution_count": 11,
   "metadata": {},
   "outputs": [
    {
     "data": {
      "text/plain": [
       "Exotic forest           1.320969\n",
       "Native forest           0.741922\n",
       "Intensive pasture       1.398870\n",
       "Semi-natural pasture    0.790244\n",
       "Name: mlsq, dtype: float64"
      ]
     },
     "metadata": {},
     "output_type": "display_data"
    },
    {
     "data": {
      "text/plain": [
       "Exotic forest           1.454388\n",
       "Native forest           2.021504\n",
       "Intensive pasture       0.904025\n",
       "Semi-natural pasture    0.790737\n",
       "Name: mlsq, dtype: float64"
      ]
     },
     "metadata": {},
     "output_type": "display_data"
    },
    {
     "data": {
      "text/plain": [
       "Exotic forest           0.191097\n",
       "Native forest           0.086812\n",
       "Intensive pasture       0.381347\n",
       "Semi-natural pasture    0.203942\n",
       "Name: mlsq, dtype: float64"
      ]
     },
     "metadata": {},
     "output_type": "display_data"
    },
    {
     "data": {
      "text/plain": [
       "Exotic forest           0.209786\n",
       "Native forest           0.291581\n",
       "Intensive pasture       0.100410\n",
       "Semi-natural pasture    0.158950\n",
       "Name: mlsq, dtype: float64"
      ]
     },
     "metadata": {},
     "output_type": "display_data"
    }
   ],
   "source": [
    "# Note that .std in pandas already has ddof=1, which is correct here since we estimate the mean\n",
    "# To get the standard error of the mean, we have to divide by sqrt(n)\n",
    "mean_idg = sne_idg['mlsq'].mean(level=0)\n",
    "mean_int = sne_int['mlsq'].mean(level=0)\n",
    "display(mean_idg)\n",
    "display(mean_int)\n",
    "\n",
    "se_idg = sne_idg['mlsq'].std(level=0)\n",
    "se_int = sne_int['mlsq'].std(level=0)\n",
    "for l in lu:\n",
    "    se_idg.loc[l] /= np.sqrt(lu_sites_alt_idg[l])\n",
    "    se_int.loc[l] /= np.sqrt(lu_sites_alt_int[l])\n",
    "display(se_idg)\n",
    "display(se_int)"
   ]
  },
  {
   "cell_type": "code",
   "execution_count": 12,
   "metadata": {},
   "outputs": [
    {
     "data": {
      "text/html": [
       "<div>\n",
       "<style scoped>\n",
       "    .dataframe tbody tr th:only-of-type {\n",
       "        vertical-align: middle;\n",
       "    }\n",
       "\n",
       "    .dataframe tbody tr th {\n",
       "        vertical-align: top;\n",
       "    }\n",
       "\n",
       "    .dataframe thead th {\n",
       "        text-align: right;\n",
       "    }\n",
       "</style>\n",
       "<table border=\"1\" class=\"dataframe\">\n",
       "  <thead>\n",
       "    <tr style=\"text-align: right;\">\n",
       "      <th></th>\n",
       "      <th>Exotic forest</th>\n",
       "      <th>Native forest</th>\n",
       "      <th>Intensive pasture</th>\n",
       "      <th>Semi-natural pasture</th>\n",
       "    </tr>\n",
       "  </thead>\n",
       "  <tbody>\n",
       "    <tr>\n",
       "      <th>Mean (idg)</th>\n",
       "      <td>1.320969</td>\n",
       "      <td>0.741922</td>\n",
       "      <td>1.398870</td>\n",
       "      <td>0.790244</td>\n",
       "    </tr>\n",
       "    <tr>\n",
       "      <th>Standard error (idg)</th>\n",
       "      <td>0.191097</td>\n",
       "      <td>0.086812</td>\n",
       "      <td>0.381347</td>\n",
       "      <td>0.203942</td>\n",
       "    </tr>\n",
       "    <tr>\n",
       "      <th>N (idg)</th>\n",
       "      <td>11.000000</td>\n",
       "      <td>44.000000</td>\n",
       "      <td>24.000000</td>\n",
       "      <td>15.000000</td>\n",
       "    </tr>\n",
       "    <tr>\n",
       "      <th>Mean (int)</th>\n",
       "      <td>1.454388</td>\n",
       "      <td>2.021504</td>\n",
       "      <td>0.904025</td>\n",
       "      <td>0.790737</td>\n",
       "    </tr>\n",
       "    <tr>\n",
       "      <th>Standard error (int)</th>\n",
       "      <td>0.209786</td>\n",
       "      <td>0.291581</td>\n",
       "      <td>0.100410</td>\n",
       "      <td>0.158950</td>\n",
       "    </tr>\n",
       "    <tr>\n",
       "      <th>N (int)</th>\n",
       "      <td>12.000000</td>\n",
       "      <td>32.000000</td>\n",
       "      <td>24.000000</td>\n",
       "      <td>16.000000</td>\n",
       "    </tr>\n",
       "  </tbody>\n",
       "</table>\n",
       "</div>"
      ],
      "text/plain": [
       "                      Exotic forest  Native forest  Intensive pasture  \\\n",
       "Mean (idg)                 1.320969       0.741922           1.398870   \n",
       "Standard error (idg)       0.191097       0.086812           0.381347   \n",
       "N (idg)                   11.000000      44.000000          24.000000   \n",
       "Mean (int)                 1.454388       2.021504           0.904025   \n",
       "Standard error (int)       0.209786       0.291581           0.100410   \n",
       "N (int)                   12.000000      32.000000          24.000000   \n",
       "\n",
       "                      Semi-natural pasture  \n",
       "Mean (idg)                        0.790244  \n",
       "Standard error (idg)              0.203942  \n",
       "N (idg)                          15.000000  \n",
       "Mean (int)                        0.790737  \n",
       "Standard error (int)              0.158950  \n",
       "N (int)                          16.000000  "
      ]
     },
     "metadata": {},
     "output_type": "display_data"
    }
   ],
   "source": [
    "# save the means to file\n",
    "mlsq_data = pd.DataFrame([mean_idg,se_idg,lu_sites_alt_idg,mean_int,se_int,lu_sites_alt_int],\n",
    "                         index=['Mean (idg)','Standard error (idg)','N (idg)',\n",
    "                                'Mean (int)','Standard error (int)','N (int)'])\n",
    "display(mlsq_data)\n",
    "mlsq_data.to_csv('ProcessedData/mrdi_mlsq_indigenous.csv')\n",
    "\n",
    "# Also save raw data\n",
    "#sne_idg.to_csv('ProcessedData/mrdi_indigenous.csv')\n",
    "#sne_int.to_csv('ProcessedData/mrdi_introduced.csv')"
   ]
  },
  {
   "cell_type": "code",
   "execution_count": null,
   "metadata": {},
   "outputs": [],
   "source": []
  }
 ],
 "metadata": {
  "kernelspec": {
   "display_name": "Python 3",
   "language": "python",
   "name": "python3"
  },
  "language_info": {
   "codemirror_mode": {
    "name": "ipython",
    "version": 3
   },
   "file_extension": ".py",
   "mimetype": "text/x-python",
   "name": "python",
   "nbconvert_exporter": "python",
   "pygments_lexer": "ipython3",
   "version": "3.6.13"
  }
 },
 "nbformat": 4,
 "nbformat_minor": 4
}
