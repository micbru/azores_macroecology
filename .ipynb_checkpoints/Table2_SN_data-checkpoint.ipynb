{
 "cells": [
  {
   "cell_type": "markdown",
   "id": "181f2e3e",
   "metadata": {},
   "source": [
    "This file will calculate the data for the first table in the manuscript, which for each land use will have the number of sites, species, and individuals, and the mean number of species and individuals at each site."
   ]
  },
  {
   "cell_type": "code",
   "execution_count": 2,
   "id": "5a190d99",
   "metadata": {},
   "outputs": [],
   "source": [
    "import numpy as np\n",
    "import pandas as pd\n",
    "\n",
    "import matplotlib.pyplot as plt\n",
    "\n",
    "%matplotlib inline"
   ]
  },
  {
   "cell_type": "code",
   "execution_count": 3,
   "id": "729b6277",
   "metadata": {},
   "outputs": [],
   "source": [
    "# Import data\n",
    "df = pd.read_csv('./RawData/Azores_Combined.csv',header=[0,1])"
   ]
  },
  {
   "cell_type": "code",
   "execution_count": 4,
   "id": "351ba922",
   "metadata": {},
   "outputs": [
    {
     "name": "stdout",
     "output_type": "stream",
     "text": [
      "Native forest: 44 sites\n",
      "Exotic forest: 12 sites\n",
      "Semi-natural pasture: 16 sites\n",
      "Intensive pasture: 24 sites\n",
      "\n",
      "Number of species: 271\n",
      "Number of individuals: 46250\n"
     ]
    }
   ],
   "source": [
    "# Some more preamble and calculating some state variables\n",
    "\n",
    "# Number of sites at each land use\n",
    "print(\"Native forest: {} sites\".format(len(df['Native forest'].columns)))\n",
    "print(\"Exotic forest: {} sites\".format(len(df['Exotic forest'].columns)))\n",
    "print(\"Semi-natural pasture: {} sites\".format(len(df['Semi-natural pasture'].columns)))\n",
    "print(\"Intensive pasture: {} sites\".format(len(df['Intensive pasture'].columns)))\n",
    "print()\n",
    "# Get total s0\n",
    "s0 = len(df)\n",
    "print('Number of species: {}'.format(s0))\n",
    "# Get land use types\n",
    "lu = list(df.columns.levels[0])\n",
    "lu.remove('Data')\n",
    "# Reorder to disturbance gradient\n",
    "lu = [lu[2],lu[0],lu[3],lu[1]]\n",
    "# Get length to use to loop over etc.\n",
    "lutypes = len(lu)\n",
    "# Get list of sites, ignoring first 4 indices which are data information\n",
    "ls = df.columns[4:]\n",
    "# Get total n0\n",
    "n0 = df[lu].sum().sum()\n",
    "print('Number of individuals: {}'.format(n0))"
   ]
  },
  {
   "cell_type": "code",
   "execution_count": 7,
   "id": "1e31ce87",
   "metadata": {},
   "outputs": [
    {
     "data": {
      "text/html": [
       "<div>\n",
       "<style scoped>\n",
       "    .dataframe tbody tr th:only-of-type {\n",
       "        vertical-align: middle;\n",
       "    }\n",
       "\n",
       "    .dataframe tbody tr th {\n",
       "        vertical-align: top;\n",
       "    }\n",
       "\n",
       "    .dataframe thead th {\n",
       "        text-align: right;\n",
       "    }\n",
       "</style>\n",
       "<table border=\"1\" class=\"dataframe\">\n",
       "  <thead>\n",
       "    <tr style=\"text-align: right;\">\n",
       "      <th></th>\n",
       "      <th>n0</th>\n",
       "      <th>s0</th>\n",
       "    </tr>\n",
       "  </thead>\n",
       "  <tbody>\n",
       "    <tr>\n",
       "      <th>Native forest</th>\n",
       "      <td>10291</td>\n",
       "      <td>148</td>\n",
       "    </tr>\n",
       "    <tr>\n",
       "      <th>Exotic forest</th>\n",
       "      <td>3385</td>\n",
       "      <td>87</td>\n",
       "    </tr>\n",
       "    <tr>\n",
       "      <th>Semi-natural pasture</th>\n",
       "      <td>11421</td>\n",
       "      <td>127</td>\n",
       "    </tr>\n",
       "    <tr>\n",
       "      <th>Intensive pasture</th>\n",
       "      <td>21153</td>\n",
       "      <td>136</td>\n",
       "    </tr>\n",
       "  </tbody>\n",
       "</table>\n",
       "</div>"
      ],
      "text/plain": [
       "                         n0   s0\n",
       "Native forest         10291  148\n",
       "Exotic forest          3385   87\n",
       "Semi-natural pasture  11421  127\n",
       "Intensive pasture     21153  136"
      ]
     },
     "execution_count": 7,
     "metadata": {},
     "output_type": "execute_result"
    }
   ],
   "source": [
    "# Get total s0 and n0 for each land use\n",
    "\n",
    "# Make arrays\n",
    "# For s,n,beta\n",
    "sn_lu = pd.DataFrame(index=lu,columns = {'s0','n0'})\n",
    "# For abundances\n",
    "abd_lu = pd.DataFrame(columns=lu)\n",
    "for l in lu:\n",
    "    abd_lu[l] = df[l].sum(axis=1)\n",
    "    # Get n0 and s0\n",
    "    stemp = np.count_nonzero(abd_lu[l])\n",
    "    ntemp = abd_lu[l].sum()\n",
    "    # Add to dataframe\n",
    "    sn_lu.loc[l] = {'n0': ntemp, 's0': stemp}\n",
    "\n",
    "# Rename indexes for abundaces to species code\n",
    "abd_lu.rename(index=df['Data','MF'],inplace=True)\n",
    "abd_lu.index.name = 'MF'\n",
    "\n",
    "# Fix datatype for sn_lu\n",
    "sn_lu = sn_lu.astype({'s0': 'int64','n0':'int64'})\n",
    "\n",
    "sn_lu"
   ]
  },
  {
   "cell_type": "code",
   "execution_count": 8,
   "id": "86bc4ad4",
   "metadata": {},
   "outputs": [
    {
     "data": {
      "text/html": [
       "<div>\n",
       "<style scoped>\n",
       "    .dataframe tbody tr th:only-of-type {\n",
       "        vertical-align: middle;\n",
       "    }\n",
       "\n",
       "    .dataframe tbody tr th {\n",
       "        vertical-align: top;\n",
       "    }\n",
       "\n",
       "    .dataframe thead th {\n",
       "        text-align: right;\n",
       "    }\n",
       "</style>\n",
       "<table border=\"1\" class=\"dataframe\">\n",
       "  <thead>\n",
       "    <tr style=\"text-align: right;\">\n",
       "      <th></th>\n",
       "      <th></th>\n",
       "      <th>n0</th>\n",
       "      <th>s0</th>\n",
       "    </tr>\n",
       "  </thead>\n",
       "  <tbody>\n",
       "    <tr>\n",
       "      <th rowspan=\"5\" valign=\"top\">Exotic forest</th>\n",
       "      <th>TER-AGUA-T-66</th>\n",
       "      <td>114</td>\n",
       "      <td>18</td>\n",
       "    </tr>\n",
       "    <tr>\n",
       "      <th>TER-MNEG-T-62</th>\n",
       "      <td>240</td>\n",
       "      <td>22</td>\n",
       "    </tr>\n",
       "    <tr>\n",
       "      <th>TER-MNEG-T-63</th>\n",
       "      <td>151</td>\n",
       "      <td>15</td>\n",
       "    </tr>\n",
       "    <tr>\n",
       "      <th>TER-TCHA-T-64</th>\n",
       "      <td>362</td>\n",
       "      <td>22</td>\n",
       "    </tr>\n",
       "    <tr>\n",
       "      <th>TER-ACAR-T111</th>\n",
       "      <td>80</td>\n",
       "      <td>17</td>\n",
       "    </tr>\n",
       "    <tr>\n",
       "      <th>...</th>\n",
       "      <th>...</th>\n",
       "      <td>...</td>\n",
       "      <td>...</td>\n",
       "    </tr>\n",
       "    <tr>\n",
       "      <th rowspan=\"5\" valign=\"top\">Semi-natural pasture</th>\n",
       "      <th>TER-NFPG-T-67</th>\n",
       "      <td>446</td>\n",
       "      <td>32</td>\n",
       "    </tr>\n",
       "    <tr>\n",
       "      <th>TER-NFTB-T117</th>\n",
       "      <td>310</td>\n",
       "      <td>18</td>\n",
       "    </tr>\n",
       "    <tr>\n",
       "      <th>TER-NFTB-T-28</th>\n",
       "      <td>512</td>\n",
       "      <td>24</td>\n",
       "    </tr>\n",
       "    <tr>\n",
       "      <th>TER-PB-T165</th>\n",
       "      <td>816</td>\n",
       "      <td>29</td>\n",
       "    </tr>\n",
       "    <tr>\n",
       "      <th>TER-SBAR-T-72</th>\n",
       "      <td>762</td>\n",
       "      <td>25</td>\n",
       "    </tr>\n",
       "  </tbody>\n",
       "</table>\n",
       "<p>96 rows × 2 columns</p>\n",
       "</div>"
      ],
      "text/plain": [
       "                                     n0  s0\n",
       "Exotic forest        TER-AGUA-T-66  114  18\n",
       "                     TER-MNEG-T-62  240  22\n",
       "                     TER-MNEG-T-63  151  15\n",
       "                     TER-TCHA-T-64  362  22\n",
       "                     TER-ACAR-T111   80  17\n",
       "...                                 ...  ..\n",
       "Semi-natural pasture TER-NFPG-T-67  446  32\n",
       "                     TER-NFTB-T117  310  18\n",
       "                     TER-NFTB-T-28  512  24\n",
       "                     TER-PB-T165    816  29\n",
       "                     TER-SBAR-T-72  762  25\n",
       "\n",
       "[96 rows x 2 columns]"
      ]
     },
     "execution_count": 8,
     "metadata": {},
     "output_type": "execute_result"
    }
   ],
   "source": [
    "# Get mean and variance for s0 and n0 for each land use by transect\n",
    "\n",
    "# Make arrays\n",
    "# For s,n,beta\n",
    "sn_ls = pd.DataFrame(index=ls,columns = {'s0','n0'})\n",
    "# For abundances\n",
    "abd_ls = pd.DataFrame(columns=ls)\n",
    "for l in ls:\n",
    "    abd_ls[l] = df[l]\n",
    "    # Get n0 and s0\n",
    "    stemp = np.count_nonzero(abd_ls[l])\n",
    "    ntemp = abd_ls[l].sum()\n",
    "    # Add to dataframe\n",
    "    sn_ls.loc[l] = {'n0': ntemp, 's0': stemp}\n",
    "\n",
    "# Rename indexes for abundaces to species code\n",
    "abd_ls.rename(index=df['Data','MF'],inplace=True)\n",
    "abd_ls.index.name = 'MF'\n",
    "\n",
    "# Fix datatype for sn_lu\n",
    "sn_ls = sn_ls.astype({'s0': 'int64','n0':'int64'})\n",
    "\n",
    "sn_ls"
   ]
  },
  {
   "cell_type": "code",
   "execution_count": 9,
   "id": "c6d84abb",
   "metadata": {},
   "outputs": [
    {
     "data": {
      "text/plain": [
       "n0  Exotic forest           282.083333\n",
       "    Native forest           233.886364\n",
       "    Intensive pasture       881.375000\n",
       "    Semi-natural pasture    713.812500\n",
       "s0  Exotic forest            20.000000\n",
       "    Native forest            24.250000\n",
       "    Intensive pasture        35.958333\n",
       "    Semi-natural pasture     28.375000\n",
       "dtype: float64"
      ]
     },
     "execution_count": 9,
     "metadata": {},
     "output_type": "execute_result"
    }
   ],
   "source": [
    "# Get mean\n",
    "sn_ls.unstack(level=0).mean()"
   ]
  },
  {
   "cell_type": "code",
   "execution_count": 10,
   "id": "c31906b7",
   "metadata": {},
   "outputs": [
    {
     "data": {
      "text/plain": [
       "n0  Exotic forest           315.715769\n",
       "    Native forest           131.776805\n",
       "    Intensive pasture       327.787950\n",
       "    Semi-natural pasture    312.476179\n",
       "s0  Exotic forest             3.861229\n",
       "    Native forest             6.039117\n",
       "    Intensive pasture         8.720187\n",
       "    Semi-natural pasture      7.948794\n",
       "dtype: float64"
      ]
     },
     "execution_count": 10,
     "metadata": {},
     "output_type": "execute_result"
    }
   ],
   "source": [
    "# Get std\n",
    "sn_ls.unstack(level=0).std()"
   ]
  },
  {
   "cell_type": "code",
   "execution_count": 13,
   "id": "d5870e98",
   "metadata": {},
   "outputs": [
    {
     "data": {
      "text/plain": [
       "n0  Exotic forest           196.0\n",
       "    Native forest           195.0\n",
       "    Intensive pasture       878.0\n",
       "    Semi-natural pasture    766.0\n",
       "s0  Exotic forest            19.5\n",
       "    Native forest            24.0\n",
       "    Intensive pasture        36.0\n",
       "    Semi-natural pasture     27.5\n",
       "dtype: float64"
      ]
     },
     "execution_count": 13,
     "metadata": {},
     "output_type": "execute_result"
    }
   ],
   "source": [
    "# Get median\n",
    "sn_ls.unstack(level=0).median()"
   ]
  },
  {
   "cell_type": "code",
   "execution_count": 16,
   "id": "39d3232d",
   "metadata": {},
   "outputs": [
    {
     "data": {
      "text/plain": [
       "n0  Exotic forest           140.25\n",
       "    Native forest           148.00\n",
       "    Intensive pasture       738.50\n",
       "    Semi-natural pasture    429.50\n",
       "s0  Exotic forest            17.75\n",
       "    Native forest            19.00\n",
       "    Intensive pasture        30.00\n",
       "    Semi-natural pasture     23.25\n",
       "Name: 0.25, dtype: float64"
      ]
     },
     "metadata": {},
     "output_type": "display_data"
    },
    {
     "data": {
      "text/plain": [
       "n0  Exotic forest           275.00\n",
       "    Native forest           287.25\n",
       "    Intensive pasture       984.75\n",
       "    Semi-natural pasture    919.75\n",
       "s0  Exotic forest            22.00\n",
       "    Native forest            29.25\n",
       "    Intensive pasture        43.25\n",
       "    Semi-natural pasture     32.25\n",
       "Name: 0.75, dtype: float64"
      ]
     },
     "metadata": {},
     "output_type": "display_data"
    }
   ],
   "source": [
    "# Get inter quantile range\n",
    "display(sn_ls.unstack(level=0).quantile(0.25))\n",
    "display(sn_ls.unstack(level=0).quantile(0.75))"
   ]
  },
  {
   "cell_type": "markdown",
   "id": "79aaf1d2",
   "metadata": {},
   "source": [
    "# Indigenous and exotic numbers\n"
   ]
  },
  {
   "cell_type": "code",
   "execution_count": 5,
   "id": "04dbc742",
   "metadata": {},
   "outputs": [],
   "source": [
    "# Strip extra whitespace\n",
    "df['Data','N/E/I'] = df['Data','N/E/I'].str.strip()\n",
    "# Get indices for N/E\n",
    "indigenous_inds = np.any([df['Data','N/E/I'] =='N',df['Data','N/E/I'] == 'E'],axis=0)\n",
    "introduced_inds = (df['Data','N/E/I'] =='I').values"
   ]
  },
  {
   "cell_type": "code",
   "execution_count": 55,
   "id": "746f09ba",
   "metadata": {},
   "outputs": [
    {
     "name": "stdout",
     "output_type": "stream",
     "text": [
      "Number of indigenous species: 126\n",
      "Number of indigenous individuals: 14950\n",
      "Number of introduced species: 141\n",
      "Number of introduced individuals: 31289\n"
     ]
    }
   ],
   "source": [
    "# How many indigenous versus introduced species?\n",
    "s0_indigenous = np.sum(indigenous_inds)\n",
    "s0_introduced = np.sum(introduced_inds)\n",
    "print('Number of indigenous species: {}'.format(s0_indigenous))\n",
    "print('Number of indigenous individuals: {}'.format(df[lu].loc[indigenous_inds].sum().sum()))\n",
    "print('Number of introduced species: {}'.format(s0_introduced))\n",
    "print('Number of introduced individuals: {}'.format(df[lu].loc[introduced_inds].sum().sum()))\n",
    "# Note 4 species aren't defined"
   ]
  },
  {
   "cell_type": "code",
   "execution_count": 59,
   "id": "254a4d42",
   "metadata": {},
   "outputs": [
    {
     "name": "stdout",
     "output_type": "stream",
     "text": [
      "Number of unidentified species 4\n",
      "Number of unidentified individuals 11\n"
     ]
    }
   ],
   "source": [
    "# Double checking this makes sense with ones unidentified\n",
    "unidentified_inds = (~indigenous_inds)&(~introduced_inds)\n",
    "print(\"Number of unidentified species\",np.sum(unidentified_inds))\n",
    "print(\"Number of unidentified individuals\",df[lu].loc[unidentified_inds].sum().sum())"
   ]
  },
  {
   "cell_type": "code",
   "execution_count": 43,
   "id": "7671c061",
   "metadata": {},
   "outputs": [
    {
     "data": {
      "text/html": [
       "<div>\n",
       "<style scoped>\n",
       "    .dataframe tbody tr th:only-of-type {\n",
       "        vertical-align: middle;\n",
       "    }\n",
       "\n",
       "    .dataframe tbody tr th {\n",
       "        vertical-align: top;\n",
       "    }\n",
       "\n",
       "    .dataframe thead th {\n",
       "        text-align: right;\n",
       "    }\n",
       "</style>\n",
       "<table border=\"1\" class=\"dataframe\">\n",
       "  <thead>\n",
       "    <tr style=\"text-align: right;\">\n",
       "      <th></th>\n",
       "      <th>n0</th>\n",
       "      <th>s0</th>\n",
       "    </tr>\n",
       "  </thead>\n",
       "  <tbody>\n",
       "    <tr>\n",
       "      <th>Native forest</th>\n",
       "      <td>7288</td>\n",
       "      <td>86</td>\n",
       "    </tr>\n",
       "    <tr>\n",
       "      <th>Exotic forest</th>\n",
       "      <td>1476</td>\n",
       "      <td>44</td>\n",
       "    </tr>\n",
       "    <tr>\n",
       "      <th>Semi-natural pasture</th>\n",
       "      <td>2110</td>\n",
       "      <td>50</td>\n",
       "    </tr>\n",
       "    <tr>\n",
       "      <th>Intensive pasture</th>\n",
       "      <td>4076</td>\n",
       "      <td>40</td>\n",
       "    </tr>\n",
       "  </tbody>\n",
       "</table>\n",
       "</div>"
      ],
      "text/plain": [
       "                        n0  s0\n",
       "Native forest         7288  86\n",
       "Exotic forest         1476  44\n",
       "Semi-natural pasture  2110  50\n",
       "Intensive pasture     4076  40"
      ]
     },
     "metadata": {},
     "output_type": "display_data"
    },
    {
     "name": "stdout",
     "output_type": "stream",
     "text": [
      "Indigenous\n"
     ]
    },
    {
     "data": {
      "text/html": [
       "<div>\n",
       "<style scoped>\n",
       "    .dataframe tbody tr th:only-of-type {\n",
       "        vertical-align: middle;\n",
       "    }\n",
       "\n",
       "    .dataframe tbody tr th {\n",
       "        vertical-align: top;\n",
       "    }\n",
       "\n",
       "    .dataframe thead th {\n",
       "        text-align: right;\n",
       "    }\n",
       "</style>\n",
       "<table border=\"1\" class=\"dataframe\">\n",
       "  <thead>\n",
       "    <tr style=\"text-align: right;\">\n",
       "      <th></th>\n",
       "      <th>n0</th>\n",
       "      <th>s0</th>\n",
       "    </tr>\n",
       "  </thead>\n",
       "  <tbody>\n",
       "    <tr>\n",
       "      <th>Native forest</th>\n",
       "      <td>3001</td>\n",
       "      <td>60</td>\n",
       "    </tr>\n",
       "    <tr>\n",
       "      <th>Exotic forest</th>\n",
       "      <td>1908</td>\n",
       "      <td>42</td>\n",
       "    </tr>\n",
       "    <tr>\n",
       "      <th>Semi-natural pasture</th>\n",
       "      <td>9310</td>\n",
       "      <td>76</td>\n",
       "    </tr>\n",
       "    <tr>\n",
       "      <th>Intensive pasture</th>\n",
       "      <td>17070</td>\n",
       "      <td>94</td>\n",
       "    </tr>\n",
       "  </tbody>\n",
       "</table>\n",
       "</div>"
      ],
      "text/plain": [
       "                         n0  s0\n",
       "Native forest          3001  60\n",
       "Exotic forest          1908  42\n",
       "Semi-natural pasture   9310  76\n",
       "Intensive pasture     17070  94"
      ]
     },
     "metadata": {},
     "output_type": "display_data"
    },
    {
     "name": "stdout",
     "output_type": "stream",
     "text": [
      "Introduced\n"
     ]
    }
   ],
   "source": [
    "# Get s0 and n0 for each different land use, one for indigenous and one for introduced\n",
    "\n",
    "# Make arrays\n",
    "# For s,n,beta\n",
    "sn_idg = pd.DataFrame(index=lu,columns = {'s0','n0'})\n",
    "sn_int = pd.DataFrame(index=lu,columns = {'s0','n0'})\n",
    "# For abundances\n",
    "abd_idg = pd.DataFrame(columns=lu)\n",
    "abd_int = pd.DataFrame(columns=lu)\n",
    "for l in lu:\n",
    "    abd_idg[l] = df[l].iloc[indigenous_inds].sum(axis=1)\n",
    "    abd_int[l] = df[l].iloc[introduced_inds].sum(axis=1)\n",
    "    \n",
    "    # For indigenous\n",
    "    # Get n0 and s0\n",
    "    stemp = np.count_nonzero(abd_idg[l])\n",
    "    ntemp = abd_idg[l].sum()\n",
    "    # Add to dataframe\n",
    "    sn_idg.loc[l] = {'n0': ntemp, 's0': stemp}\n",
    "    \n",
    "    # For introduced\n",
    "    # Get n0 and s0\n",
    "    stemp = np.count_nonzero(abd_int[l])\n",
    "    ntemp = abd_int[l].sum()\n",
    "    # Add to dataframe\n",
    "    sn_int.loc[l] = {'n0': ntemp, 's0': stemp}\n",
    "\n",
    "# Rename indexes for abundaces to species code\n",
    "abd_idg.rename(index=df['Data','MF'].iloc[indigenous_inds],inplace=True)\n",
    "abd_idg.index.name = 'MF'\n",
    "\n",
    "abd_int.rename(index=df['Data','MF'].iloc[introduced_inds],inplace=True)\n",
    "abd_int.index.name = 'MF'\n",
    "\n",
    "# Fix datatype for sn_lu\n",
    "sn_idg = sn_idg.astype({'s0': 'int64','n0':'int64'})\n",
    "sn_int = sn_int.astype({'s0': 'int64','n0':'int64'})\n",
    "\n",
    "display(sn_idg)\n",
    "print(\"Indigenous\")\n",
    "display(sn_int)\n",
    "print(\"Introduced\")"
   ]
  },
  {
   "cell_type": "code",
   "execution_count": 44,
   "id": "68a23b81",
   "metadata": {},
   "outputs": [],
   "source": [
    "# For individual sites\n",
    "# Get abundances at each site\n",
    "\n",
    "# Make arrays\n",
    "# For s,n,beta\n",
    "sn_ls_idg = pd.DataFrame(index=ls,columns = {'s0','n0'})\n",
    "sn_ls_int = pd.DataFrame(index=ls,columns = {'s0','n0'})\n",
    "# For abundances\n",
    "abd_ls_idg = pd.DataFrame(columns=ls)\n",
    "abd_ls_int = pd.DataFrame(columns=ls)\n",
    "for l in ls:\n",
    "    abd_ls_idg[l] = df[l].iloc[indigenous_inds]\n",
    "    abd_ls_int[l] = df[l].iloc[introduced_inds]\n",
    "    # Indigenous\n",
    "    # Get n0 and s0\n",
    "    stemp = np.count_nonzero(abd_ls_idg[l])\n",
    "    ntemp = abd_ls_idg[l].sum()\n",
    "    # Add to dataframe\n",
    "    sn_ls_idg.loc[l] = {'n0': ntemp, 's0': stemp}\n",
    "    # Introduced\n",
    "    # Get n0 and s0\n",
    "    stemp = np.count_nonzero(abd_ls_int[l])\n",
    "    ntemp = abd_ls_int[l].sum()\n",
    "    # Add to dataframe\n",
    "    sn_ls_int.loc[l] = {'n0': ntemp, 's0': stemp}\n",
    "\n",
    "# Rename indexes for abundaces to species code\n",
    "abd_ls_idg.rename(index=df['Data','MF'],inplace=True)\n",
    "abd_ls_idg.index.name = 'MF'\n",
    "abd_ls_int.rename(index=df['Data','MF'],inplace=True)\n",
    "abd_ls_int.index.name = 'MF'\n",
    "\n",
    "# Fix datatype for sn_lu\n",
    "sn_ls_idg = sn_ls_idg.astype({'s0': 'int64','n0':'int64'})\n",
    "sn_ls_int = sn_ls_int.astype({'s0': 'int64','n0':'int64'})"
   ]
  },
  {
   "cell_type": "code",
   "execution_count": 45,
   "id": "5a11ac24",
   "metadata": {},
   "outputs": [
    {
     "data": {
      "text/plain": [
       "n0  Exotic forest           111.0\n",
       "    Native forest           129.0\n",
       "    Intensive pasture       160.5\n",
       "    Semi-natural pasture    101.0\n",
       "s0  Exotic forest            10.0\n",
       "    Native forest            15.5\n",
       "    Intensive pasture        10.0\n",
       "    Semi-natural pasture     10.0\n",
       "dtype: float64"
      ]
     },
     "metadata": {},
     "output_type": "display_data"
    },
    {
     "data": {
      "text/plain": [
       "n0  Exotic forest            51.0\n",
       "    Native forest            50.0\n",
       "    Intensive pasture       684.0\n",
       "    Semi-natural pasture    623.0\n",
       "s0  Exotic forest             9.0\n",
       "    Native forest             8.0\n",
       "    Intensive pasture        26.5\n",
       "    Semi-natural pasture     17.0\n",
       "dtype: float64"
      ]
     },
     "metadata": {},
     "output_type": "display_data"
    }
   ],
   "source": [
    "# Get median\n",
    "display(sn_ls_idg.unstack(level=0).median())\n",
    "display(sn_ls_int.unstack(level=0).median())"
   ]
  },
  {
   "cell_type": "code",
   "execution_count": null,
   "id": "1831ba69",
   "metadata": {},
   "outputs": [],
   "source": []
  }
 ],
 "metadata": {
  "kernelspec": {
   "display_name": "Python 3",
   "language": "python",
   "name": "python3"
  },
  "language_info": {
   "codemirror_mode": {
    "name": "ipython",
    "version": 3
   },
   "file_extension": ".py",
   "mimetype": "text/x-python",
   "name": "python",
   "nbconvert_exporter": "python",
   "pygments_lexer": "ipython3",
   "version": "3.6.13"
  }
 },
 "nbformat": 4,
 "nbformat_minor": 5
}
