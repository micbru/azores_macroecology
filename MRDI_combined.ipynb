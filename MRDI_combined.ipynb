{
 "cells": [
  {
   "cell_type": "markdown",
   "metadata": {},
   "source": [
    "This file will compare the METE predicted MRDIs to the empirical MRDIs. Doing this is a little complicated since we only have mean body mass, so we have to simulated noise from the body mass distribution before doing the comparison, then convert to metabolic rate. \n",
    "\n",
    "There are a lot of approximations here -- the mass is calculated empirically from the length, the mean mass has noise added to it assuming a normal distribution with variance from a regression relationship (see BodyMassVariance), and is then converted into a metabolic rate. I don't necessarily trust these results that much, but the hope is that we will see similar results to what we got with the SADs to back those results."
   ]
  },
  {
   "cell_type": "code",
   "execution_count": 27,
   "metadata": {},
   "outputs": [],
   "source": [
    "import numpy as np\n",
    "import pandas as pd\n",
    "import scipy.stats as st\n",
    "from scipy import integrate\n",
    "import sad_mrdi as sm\n",
    "import matplotlib.pyplot as plt\n",
    "%matplotlib inline"
   ]
  },
  {
   "cell_type": "code",
   "execution_count": 28,
   "metadata": {},
   "outputs": [],
   "source": [
    "# Read in only adult data set, because it has body mass information\n",
    "# Unfortunately for spiders there is only one mean represented\n",
    "ad = pd.read_csv('./RawData/Azores_Adults.csv',header=[0,1])\n",
    "# Get land use types\n",
    "lu = list(ad.columns.levels[0])\n",
    "lu.remove('Data')\n",
    "# Reorder to disturbance gradient\n",
    "lu = [lu[2],lu[0],lu[3],lu[1]]\n",
    "# Make arrays\n",
    "# For s,n,beta. Later e0 and lambdas.\n",
    "sne = pd.DataFrame(index=lu,columns = {'s0','n0','e0','beta','l1','l2'})\n",
    "# For abundances\n",
    "abd = pd.DataFrame(columns=lu)\n",
    "for l in lu:\n",
    "    abd[l] = ad[l].sum(axis=1)\n",
    "    # Get n0 and s0\n",
    "    stemp = np.count_nonzero(abd[l])\n",
    "    ntemp = abd[l].sum()\n",
    "    # Get beta\n",
    "    btemp = sm.get_beta(stemp,ntemp)\n",
    "    # Add to dataframe\n",
    "    sne.loc[l] = {'n0': ntemp, 's0': stemp, 'beta': btemp}\n",
    "    \n",
    "# Rename indexes for abundaces to species code\n",
    "abd.rename(index=ad['Data','MF'],inplace=True)\n",
    "abd.index.name = 'MF'\n",
    "\n",
    "# Fix datatype for sne_lu\n",
    "sne = sne.astype({'s0': 'int64','n0':'int64','beta':'float64'})"
   ]
  },
  {
   "cell_type": "markdown",
   "metadata": {},
   "source": [
    "# Preamble"
   ]
  },
  {
   "cell_type": "markdown",
   "metadata": {},
   "source": [
    "Look by order. We have regression relationships between mean and variance for spiders and beetles. Beetles seem roughly normally distributed for how many data points we have, and spiders are probably bimodal due to sex, but we only have access to the central mean so we will pretend they are characterized by mean and variance as well. The other orders: Blattaria are termites, Dermaptera are earwigs, Geophilomorpha are centipedes, Hemiptera are true bugs, Julida are millipedes, Lithobiomorpha are stone centipedes, Microcoryphia are bristletails, Opiliones are harvestmen, Orthoptera are locusts and crickets, Polydesmida are another type of millipede, Pseudoscorpiones are pseudoscorpions, Psocoptera are booklice, Scolopendromorpha are large centipedes, Scutigeromorpha are house centipedes, Symphyla are pseudocentipedes, Thysanoptera are thrips which are related to hemiptera and psocoptera, and finally Trichoptera are caddisflies."
   ]
  },
  {
   "cell_type": "code",
   "execution_count": 29,
   "metadata": {},
   "outputs": [
    {
     "name": "stdout",
     "output_type": "stream",
     "text": [
      "Araneae\t\tSpecies 41\t\tIndividuals 22040\n",
      "Blattaria\t\tSpecies 1\t\tIndividuals 10\n",
      "Coleoptera\t\tSpecies 110\t\tIndividuals 9173\n",
      "Dermaptera\t\tSpecies 2\t\tIndividuals 367\n",
      "Geophilomorpha\t\tSpecies 1\t\tIndividuals 8\n",
      "Hemiptera\t\tSpecies 31\t\tIndividuals 736\n",
      "Julida\t\tSpecies 5\t\tIndividuals 1071\n",
      "Lithobiomorpha \t\tSpecies 2\t\tIndividuals 1520\n",
      "Microcoryphia\t\tSpecies 2\t\tIndividuals 10\n",
      "Opiliones\t\tSpecies 2\t\tIndividuals 597\n",
      "Orthoptera\t\tSpecies 2\t\tIndividuals 440\n",
      "Polydesmida\t\tSpecies 3\t\tIndividuals 95\n",
      "Pseudoscorpiones\t\tSpecies 2\t\tIndividuals 152\n",
      "Psocoptera\t\tSpecies 4\t\tIndividuals 6\n",
      "Scolopendromorpha\t\tSpecies 1\t\tIndividuals 7\n",
      "Scutigeromorpha\t\tSpecies 1\t\tIndividuals 4\n",
      "Symphyla\t\tSpecies 1\t\tIndividuals 1\n",
      "Thysanoptera\t\tSpecies 5\t\tIndividuals 31\n",
      "Trichoptera\t\tSpecies 1\t\tIndividuals 1\n"
     ]
    }
   ],
   "source": [
    "# Print orders and how many per\n",
    "for o in ad['Data','Order (new)'].unique():\n",
    "    print(\"{}\\t\\tSpecies {}\\t\\tIndividuals\".format(\n",
    "        o,ad[ad['Data','Order (new)']==o]['Data','Species_name'].nunique()),\n",
    "         ad[ad['Data','Order (new)']==o].drop(columns='Data',level=0).sum().sum())"
   ]
  },
  {
   "cell_type": "code",
   "execution_count": 30,
   "metadata": {},
   "outputs": [
    {
     "name": "stdout",
     "output_type": "stream",
     "text": [
      "0.860597204223993\n"
     ]
    }
   ],
   "source": [
    "# How much percent are araneae and beetles?\n",
    "print((22040+9173)/ad.drop(columns='Data',level=0).sum().sum())\n",
    "# So at least it is most of the dataset. Let's use the beetle regression for all for now."
   ]
  },
  {
   "cell_type": "code",
   "execution_count": 31,
   "metadata": {},
   "outputs": [],
   "source": [
    "# Set up regression relationships from BodyMassVariance.ipynb\n",
    "# Note these are for the log relationship\n",
    "# For beetles\n",
    "bi = -1.243073857459273\n",
    "bs = 1.9948767678521848\n",
    "# For spiders\n",
    "si = -1.1467463900692998\n",
    "ss = 2.2207391333864335"
   ]
  },
  {
   "cell_type": "markdown",
   "metadata": {},
   "source": [
    "# Make simulated datasets\n",
    "Generate a biomass array from the data using the mean and pulling the appropriate number from a normal distribution.\n",
    "\n",
    "To improve this, I could use the actual variances for the species I have in the BodyMassVariance notebook, and could use the dimorphism for the spiders from there, but I'm not sure it actually makes sense because the data is slightly different, and only available for some species. Let's stick with the easiest thing for now."
   ]
  },
  {
   "cell_type": "code",
   "execution_count": 32,
   "metadata": {},
   "outputs": [],
   "source": [
    "# Set random seed\n",
    "prng = np.random.RandomState(101)\n",
    "# Make a dictionary with labeled land uses\n",
    "biomass = {}\n",
    "for l in lu:\n",
    "    # Find args for this land use where the abundance is non-zero\n",
    "    args_temp = np.where(abd[l])[0]\n",
    "    # Get abundances just for this land use\n",
    "    abd_temp = abd[l].iloc[args_temp]\n",
    "    # Now simulate that number of points for each species\n",
    "    biomass[l] = np.array([])\n",
    "    for mf in abd_temp.index:\n",
    "        # pull abd_temp[mf] number of points from a normal distribution\n",
    "        # where the mean is given by the mean in the main dataset\n",
    "        # and the standard deviation is given by the regression relationships above\n",
    "        mean = ad[ad['Data','MF']==mf]['Data','Body_Mass.mg.']\n",
    "        # Use the beetle regression\n",
    "        if (ad[ad['Data','MF']==mf]['Data','Order (new)'].values[0]=='Araneae'):\n",
    "            var = 10**(si+ss*np.log10(mean))\n",
    "        else:\n",
    "            var = 10**(bi+bs*np.log10(mean))\n",
    "        biomass[l] = np.append(biomass[l],\n",
    "                               st.norm.rvs(loc=mean,scale=np.sqrt(var),size=abd_temp[mf],random_state=prng))\n",
    "        # There is an issue here where depending on random seed we can get biomasses below zero, \n",
    "        # but let's ignore that."
   ]
  },
  {
   "cell_type": "code",
   "execution_count": 33,
   "metadata": {},
   "outputs": [
    {
     "name": "stdout",
     "output_type": "stream",
     "text": [
      "[]\n",
      "[]\n",
      "[]\n",
      "[]\n"
     ]
    }
   ],
   "source": [
    "# Check for less than zeros. These should be empty if adding the variance in is working.\n",
    "for l in lu:\n",
    "    print(biomass[l][biomass[l]<0])"
   ]
  },
  {
   "cell_type": "code",
   "execution_count": 34,
   "metadata": {},
   "outputs": [],
   "source": [
    "# Now convert to metabolic rate\n",
    "mr = biomass.copy()\n",
    "for l in lu:\n",
    "    # Now sort the array, convert to metabolic rate (m \\propto e^(4/3)), and divide by smallest\n",
    "    # Order doesn't matter here\n",
    "    mr[l] = np.sort(mr[l]**(3/4))\n",
    "    # Note that this way, the e0 between the land uses actually isn't comparable \n",
    "    #because the smallest unit is different\n",
    "    mr[l] = mr[l]/mr[l][0]\n",
    "    \n",
    "for l in lu:\n",
    "    sne.loc[l,'e0'] = mr[l].sum()\n",
    "sne['l2'] = sne['s0']/(sne['e0']-sne['n0'])\n",
    "sne['l1'] = sne['beta']-sne['l2']"
   ]
  },
  {
   "cell_type": "code",
   "execution_count": 35,
   "metadata": {},
   "outputs": [
    {
     "data": {
      "text/html": [
       "<div>\n",
       "<style scoped>\n",
       "    .dataframe tbody tr th:only-of-type {\n",
       "        vertical-align: middle;\n",
       "    }\n",
       "\n",
       "    .dataframe tbody tr th {\n",
       "        vertical-align: top;\n",
       "    }\n",
       "\n",
       "    .dataframe thead th {\n",
       "        text-align: right;\n",
       "    }\n",
       "</style>\n",
       "<table border=\"1\" class=\"dataframe\">\n",
       "  <thead>\n",
       "    <tr style=\"text-align: right;\">\n",
       "      <th></th>\n",
       "      <th>n0</th>\n",
       "      <th>e0</th>\n",
       "      <th>beta</th>\n",
       "      <th>l1</th>\n",
       "      <th>l2</th>\n",
       "      <th>s0</th>\n",
       "    </tr>\n",
       "  </thead>\n",
       "  <tbody>\n",
       "    <tr>\n",
       "      <th>Native forest</th>\n",
       "      <td>4404</td>\n",
       "      <td>2.63914e+06</td>\n",
       "      <td>0.004430</td>\n",
       "      <td>0.00438936</td>\n",
       "      <td>4.02318e-05</td>\n",
       "      <td>106</td>\n",
       "    </tr>\n",
       "    <tr>\n",
       "      <th>Exotic forest</th>\n",
       "      <td>2651</td>\n",
       "      <td>299585</td>\n",
       "      <td>0.005849</td>\n",
       "      <td>0.00557945</td>\n",
       "      <td>0.00026942</td>\n",
       "      <td>80</td>\n",
       "    </tr>\n",
       "    <tr>\n",
       "      <th>Semi-natural pasture</th>\n",
       "      <td>9846</td>\n",
       "      <td>809605</td>\n",
       "      <td>0.001760</td>\n",
       "      <td>0.00162208</td>\n",
       "      <td>0.000137541</td>\n",
       "      <td>110</td>\n",
       "    </tr>\n",
       "    <tr>\n",
       "      <th>Intensive pasture</th>\n",
       "      <td>19368</td>\n",
       "      <td>4.17182e+06</td>\n",
       "      <td>0.000932</td>\n",
       "      <td>0.000901397</td>\n",
       "      <td>3.03435e-05</td>\n",
       "      <td>126</td>\n",
       "    </tr>\n",
       "  </tbody>\n",
       "</table>\n",
       "</div>"
      ],
      "text/plain": [
       "                         n0           e0      beta           l1           l2  \\\n",
       "Native forest          4404  2.63914e+06  0.004430   0.00438936  4.02318e-05   \n",
       "Exotic forest          2651       299585  0.005849   0.00557945   0.00026942   \n",
       "Semi-natural pasture   9846       809605  0.001760   0.00162208  0.000137541   \n",
       "Intensive pasture     19368  4.17182e+06  0.000932  0.000901397  3.03435e-05   \n",
       "\n",
       "                       s0  \n",
       "Native forest         106  \n",
       "Exotic forest          80  \n",
       "Semi-natural pasture  110  \n",
       "Intensive pasture     126  "
      ]
     },
     "execution_count": 35,
     "metadata": {},
     "output_type": "execute_result"
    }
   ],
   "source": [
    "sne"
   ]
  },
  {
   "cell_type": "markdown",
   "metadata": {},
   "source": [
    "# KS Goodness of fit and plots"
   ]
  },
  {
   "cell_type": "code",
   "execution_count": 36,
   "metadata": {},
   "outputs": [
    {
     "data": {
      "image/png": "[encoded data removed]",
      "text/plain": [
       "<Figure size 432x432 with 4 Axes>"
      ]
     },
     "metadata": {
      "needs_background": "light"
     },
     "output_type": "display_data"
    }
   ],
   "source": [
    "# With better colour scheme\n",
    "clist = {lu[0]:'tab:green',lu[1]:'tab:blue',lu[2]:'tab:orange',lu[3]:'tab:red'}\n",
    "fig,axs = plt.subplots(2,2,figsize=(6,6),sharex=True,sharey=True,constrained_layout=True)\n",
    "for l, ax in zip(lu,fig.axes):\n",
    "    # Set title to index\n",
    "    ax.set_title(l,y=0.9)\n",
    "    # Plot theoretical MRDI\n",
    "    ranks = np.arange(sne.loc[l,'n0'])+1\n",
    "    ax.loglog(ranks,sm.mrdi_rank(ranks,(sne.loc[l,'l1'],sne.loc[l,'l2']),sne.loc[l,'n0']),c='tab:gray',label='METE')\n",
    "    # Plot empirical MRDI\n",
    "    ax.loglog(ranks,mr[l][::-1],'o',c=clist[l],label='Obs.')\n",
    "    \n",
    "mete, = axs[0,1].semilogy([],[],c='tab:gray',label='METE')\n",
    "obs, = axs[0,1].semilogy([],[],'o',c='tab:gray',label='Obs.')\n",
    "\n",
    "axs[0,1].legend(handles=[mete,obs],loc=(0.65,0.7))#'center right')\n",
    "\n",
    "axs[0,0].set_ylabel('Metabolic Rate')\n",
    "axs[1,0].set_ylabel('Metabolic Rate')\n",
    "axs[1,0].set_xlabel('Rank')\n",
    "axs[1,1].set_xlabel('Rank')\n",
    "\n",
    "fig.savefig('Figures/SI/MRDI_combined.pdf')"
   ]
  },
  {
   "cell_type": "markdown",
   "metadata": {},
   "source": [
    "# Least squares goodness of fit"
   ]
  },
  {
   "cell_type": "code",
   "execution_count": 37,
   "metadata": {},
   "outputs": [
    {
     "name": "stdout",
     "output_type": "stream",
     "text": [
      "1.0124739876046562\n",
      "1.0040833347752947\n",
      "1.0006491360254754\n",
      "1.0007923621011034\n"
     ]
    },
    {
     "data": {
      "text/html": [
       "<div>\n",
       "<style scoped>\n",
       "    .dataframe tbody tr th:only-of-type {\n",
       "        vertical-align: middle;\n",
       "    }\n",
       "\n",
       "    .dataframe tbody tr th {\n",
       "        vertical-align: top;\n",
       "    }\n",
       "\n",
       "    .dataframe thead th {\n",
       "        text-align: right;\n",
       "    }\n",
       "</style>\n",
       "<table border=\"1\" class=\"dataframe\">\n",
       "  <thead>\n",
       "    <tr style=\"text-align: right;\">\n",
       "      <th></th>\n",
       "      <th>n0</th>\n",
       "      <th>e0</th>\n",
       "      <th>beta</th>\n",
       "      <th>l1</th>\n",
       "      <th>l2</th>\n",
       "      <th>s0</th>\n",
       "      <th>mlsq</th>\n",
       "    </tr>\n",
       "  </thead>\n",
       "  <tbody>\n",
       "    <tr>\n",
       "      <th>Native forest</th>\n",
       "      <td>4404</td>\n",
       "      <td>2.63914e+06</td>\n",
       "      <td>0.004430</td>\n",
       "      <td>0.00438936</td>\n",
       "      <td>4.02318e-05</td>\n",
       "      <td>106</td>\n",
       "      <td>0.378824</td>\n",
       "    </tr>\n",
       "    <tr>\n",
       "      <th>Exotic forest</th>\n",
       "      <td>2651</td>\n",
       "      <td>299585</td>\n",
       "      <td>0.005849</td>\n",
       "      <td>0.00557945</td>\n",
       "      <td>0.00026942</td>\n",
       "      <td>80</td>\n",
       "      <td>0.260345</td>\n",
       "    </tr>\n",
       "    <tr>\n",
       "      <th>Semi-natural pasture</th>\n",
       "      <td>9846</td>\n",
       "      <td>809605</td>\n",
       "      <td>0.001760</td>\n",
       "      <td>0.00162208</td>\n",
       "      <td>0.000137541</td>\n",
       "      <td>110</td>\n",
       "      <td>1.253413</td>\n",
       "    </tr>\n",
       "    <tr>\n",
       "      <th>Intensive pasture</th>\n",
       "      <td>19368</td>\n",
       "      <td>4.17182e+06</td>\n",
       "      <td>0.000932</td>\n",
       "      <td>0.000901397</td>\n",
       "      <td>3.03435e-05</td>\n",
       "      <td>126</td>\n",
       "      <td>1.391150</td>\n",
       "    </tr>\n",
       "  </tbody>\n",
       "</table>\n",
       "</div>"
      ],
      "text/plain": [
       "                         n0           e0      beta           l1           l2  \\\n",
       "Native forest          4404  2.63914e+06  0.004430   0.00438936  4.02318e-05   \n",
       "Exotic forest          2651       299585  0.005849   0.00557945   0.00026942   \n",
       "Semi-natural pasture   9846       809605  0.001760   0.00162208  0.000137541   \n",
       "Intensive pasture     19368  4.17182e+06  0.000932  0.000901397  3.03435e-05   \n",
       "\n",
       "                       s0      mlsq  \n",
       "Native forest         106  0.378824  \n",
       "Exotic forest          80  0.260345  \n",
       "Semi-natural pasture  110  1.253413  \n",
       "Intensive pasture     126  1.391150  "
      ]
     },
     "metadata": {},
     "output_type": "display_data"
    }
   ],
   "source": [
    "# Use mean least squares as with SAD\n",
    "mlsq = pd.Series(index=lu,dtype='float64')\n",
    "for l in lu:\n",
    "    ranks = np.arange(sne.loc[l,'n0'])+1\n",
    "    pred = sm.mrdi_rank(ranks,(sne.loc[l,'l1'],sne.loc[l,'l2']),sne.loc[l,'n0'])\n",
    "    print(pred[-1]) # These should be 1\n",
    "    obs = mr[l][::-1]\n",
    "    if sne['n0'][l] == len(obs):\n",
    "        mlsq[l] = np.sum((np.log(obs)-np.log(pred))**2)/len(obs)\n",
    "    else:\n",
    "        print(\"Ruh ro!\")\n",
    "\n",
    "sne['mlsq'] = mlsq\n",
    "sne.to_csv('ProcessedData/mrdi_combined_data.csv')\n",
    "display(sne)"
   ]
  },
  {
   "cell_type": "code",
   "execution_count": null,
   "metadata": {},
   "outputs": [],
   "source": []
  }
 ],
 "metadata": {
  "kernelspec": {
   "display_name": "Python 3",
   "language": "python",
   "name": "python3"
  },
  "language_info": {
   "codemirror_mode": {
    "name": "ipython",
    "version": 3
   },
   "file_extension": ".py",
   "mimetype": "text/x-python",
   "name": "python",
   "nbconvert_exporter": "python",
   "pygments_lexer": "ipython3",
   "version": "3.6.13"
  }
 },
 "nbformat": 4,
 "nbformat_minor": 4
}
