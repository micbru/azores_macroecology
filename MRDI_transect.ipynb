{
 "cells": [
  {
   "cell_type": "markdown",
   "metadata": {},
   "source": [
    "MRDI comparison at the individual transect level."
   ]
  },
  {
   "cell_type": "code",
   "execution_count": 1,
   "metadata": {},
   "outputs": [],
   "source": [
    "import numpy as np\n",
    "import pandas as pd\n",
    "import scipy.stats as st\n",
    "import matplotlib.pyplot as plt\n",
    "import sad_mrdi as sm\n",
    "%matplotlib inline"
   ]
  },
  {
   "cell_type": "code",
   "execution_count": 2,
   "metadata": {},
   "outputs": [],
   "source": [
    "# Import data\n",
    "ad = pd.read_csv('./RawData/Azores_Adults.csv',header=[0,1])"
   ]
  },
  {
   "cell_type": "code",
   "execution_count": 3,
   "metadata": {
    "scrolled": false
   },
   "outputs": [
    {
     "data": {
      "text/html": [
       "<div>\n",
       "<style scoped>\n",
       "    .dataframe tbody tr th:only-of-type {\n",
       "        vertical-align: middle;\n",
       "    }\n",
       "\n",
       "    .dataframe tbody tr th {\n",
       "        vertical-align: top;\n",
       "    }\n",
       "\n",
       "    .dataframe thead th {\n",
       "        text-align: right;\n",
       "    }\n",
       "</style>\n",
       "<table border=\"1\" class=\"dataframe\">\n",
       "  <thead>\n",
       "    <tr style=\"text-align: right;\">\n",
       "      <th></th>\n",
       "      <th></th>\n",
       "      <th>l2</th>\n",
       "      <th>beta</th>\n",
       "      <th>e0</th>\n",
       "      <th>l1</th>\n",
       "      <th>n0</th>\n",
       "      <th>s0</th>\n",
       "    </tr>\n",
       "  </thead>\n",
       "  <tbody>\n",
       "    <tr>\n",
       "      <th rowspan=\"5\" valign=\"top\">Exotic forest</th>\n",
       "      <th>TER-AGUA-T-66</th>\n",
       "      <td>NaN</td>\n",
       "      <td>0.089854</td>\n",
       "      <td>NaN</td>\n",
       "      <td>NaN</td>\n",
       "      <td>56</td>\n",
       "      <td>13</td>\n",
       "    </tr>\n",
       "    <tr>\n",
       "      <th>TER-MNEG-T-62</th>\n",
       "      <td>NaN</td>\n",
       "      <td>0.030485</td>\n",
       "      <td>NaN</td>\n",
       "      <td>NaN</td>\n",
       "      <td>193</td>\n",
       "      <td>21</td>\n",
       "    </tr>\n",
       "    <tr>\n",
       "      <th>TER-MNEG-T-63</th>\n",
       "      <td>NaN</td>\n",
       "      <td>0.033242</td>\n",
       "      <td>NaN</td>\n",
       "      <td>NaN</td>\n",
       "      <td>128</td>\n",
       "      <td>15</td>\n",
       "    </tr>\n",
       "    <tr>\n",
       "      <th>TER-TCHA-T-64</th>\n",
       "      <td>NaN</td>\n",
       "      <td>0.016423</td>\n",
       "      <td>NaN</td>\n",
       "      <td>NaN</td>\n",
       "      <td>291</td>\n",
       "      <td>20</td>\n",
       "    </tr>\n",
       "    <tr>\n",
       "      <th>TER-ACAR-T111</th>\n",
       "      <td>NaN</td>\n",
       "      <td>0.084279</td>\n",
       "      <td>NaN</td>\n",
       "      <td>NaN</td>\n",
       "      <td>63</td>\n",
       "      <td>14</td>\n",
       "    </tr>\n",
       "    <tr>\n",
       "      <th>...</th>\n",
       "      <th>...</th>\n",
       "      <td>...</td>\n",
       "      <td>...</td>\n",
       "      <td>...</td>\n",
       "      <td>...</td>\n",
       "      <td>...</td>\n",
       "      <td>...</td>\n",
       "    </tr>\n",
       "    <tr>\n",
       "      <th rowspan=\"5\" valign=\"top\">Semi-natural pasture</th>\n",
       "      <th>TER-NFPG-T-67</th>\n",
       "      <td>NaN</td>\n",
       "      <td>0.020813</td>\n",
       "      <td>NaN</td>\n",
       "      <td>NaN</td>\n",
       "      <td>318</td>\n",
       "      <td>26</td>\n",
       "    </tr>\n",
       "    <tr>\n",
       "      <th>TER-NFTB-T117</th>\n",
       "      <td>NaN</td>\n",
       "      <td>0.013750</td>\n",
       "      <td>NaN</td>\n",
       "      <td>NaN</td>\n",
       "      <td>244</td>\n",
       "      <td>15</td>\n",
       "    </tr>\n",
       "    <tr>\n",
       "      <th>TER-NFTB-T-28</th>\n",
       "      <td>NaN</td>\n",
       "      <td>0.025231</td>\n",
       "      <td>NaN</td>\n",
       "      <td>NaN</td>\n",
       "      <td>211</td>\n",
       "      <td>20</td>\n",
       "    </tr>\n",
       "    <tr>\n",
       "      <th>TER-PB-T165</th>\n",
       "      <td>NaN</td>\n",
       "      <td>0.007316</td>\n",
       "      <td>NaN</td>\n",
       "      <td>NaN</td>\n",
       "      <td>744</td>\n",
       "      <td>27</td>\n",
       "    </tr>\n",
       "    <tr>\n",
       "      <th>TER-SBAR-T-72</th>\n",
       "      <td>NaN</td>\n",
       "      <td>0.004575</td>\n",
       "      <td>NaN</td>\n",
       "      <td>NaN</td>\n",
       "      <td>700</td>\n",
       "      <td>18</td>\n",
       "    </tr>\n",
       "  </tbody>\n",
       "</table>\n",
       "<p>96 rows × 6 columns</p>\n",
       "</div>"
      ],
      "text/plain": [
       "                                     l2      beta   e0   l1   n0  s0\n",
       "Exotic forest        TER-AGUA-T-66  NaN  0.089854  NaN  NaN   56  13\n",
       "                     TER-MNEG-T-62  NaN  0.030485  NaN  NaN  193  21\n",
       "                     TER-MNEG-T-63  NaN  0.033242  NaN  NaN  128  15\n",
       "                     TER-TCHA-T-64  NaN  0.016423  NaN  NaN  291  20\n",
       "                     TER-ACAR-T111  NaN  0.084279  NaN  NaN   63  14\n",
       "...                                 ...       ...  ...  ...  ...  ..\n",
       "Semi-natural pasture TER-NFPG-T-67  NaN  0.020813  NaN  NaN  318  26\n",
       "                     TER-NFTB-T117  NaN  0.013750  NaN  NaN  244  15\n",
       "                     TER-NFTB-T-28  NaN  0.025231  NaN  NaN  211  20\n",
       "                     TER-PB-T165    NaN  0.007316  NaN  NaN  744  27\n",
       "                     TER-SBAR-T-72  NaN  0.004575  NaN  NaN  700  18\n",
       "\n",
       "[96 rows x 6 columns]"
      ]
     },
     "metadata": {},
     "output_type": "display_data"
    }
   ],
   "source": [
    "# Get land use types\n",
    "lu = list(ad.columns.levels[0])\n",
    "lu.remove('Data')\n",
    "# Reorder to disturbance gradient\n",
    "lu = [lu[2],lu[0],lu[3],lu[1]]\n",
    "# Get how many sites for each land use\n",
    "lu_sites = pd.Series(index=lu,dtype=int)\n",
    "for l in lu:\n",
    "    lu_sites[l] = len(ad[l].columns)\n",
    "\n",
    "# Get list of sites, ignoring first 4 indices which are data information\n",
    "ls = ad.columns[9:]\n",
    "\n",
    "# Make arrays using ls instead of lu\n",
    "# For s,n,beta. Later e0 and lambdas.\n",
    "sne = pd.DataFrame(index=ls,columns = {'s0','n0','e0','beta','l1','l2'})\n",
    "# For abundances\n",
    "abd = pd.DataFrame(columns=ls)\n",
    "for l in ls:\n",
    "    abd[l] = ad[l]\n",
    "    # Get n0 and s0\n",
    "    stemp = np.count_nonzero(abd[l])\n",
    "    ntemp = abd[l].sum()\n",
    "    # Get beta\n",
    "    btemp = sm.get_beta(stemp,ntemp)\n",
    "    # Add to dataframe\n",
    "    sne.loc[l] = {'n0': ntemp, 's0': stemp, 'beta': btemp}\n",
    "    \n",
    "# Rename indexes for abundaces to species code\n",
    "abd.rename(index=ad['Data','MF'],inplace=True)\n",
    "abd.index.name = 'MF'\n",
    "\n",
    "# Fix datatype for sne_lu\n",
    "sne = sne.astype({'s0': 'int64','n0':'int64','beta':'float64'})\n",
    "display(sne)"
   ]
  },
  {
   "cell_type": "markdown",
   "metadata": {},
   "source": [
    "# Simulate datasets"
   ]
  },
  {
   "cell_type": "code",
   "execution_count": 4,
   "metadata": {},
   "outputs": [],
   "source": [
    "# Set up regression relationships from BodyMassVariance.ipynb\n",
    "# Note these are for the log relationship\n",
    "# For beetles\n",
    "bi = -1.243073857459273\n",
    "bs = 1.9948767678521848\n",
    "# For spiders\n",
    "si = -1.1467463900692998\n",
    "ss = 2.2207391333864335"
   ]
  },
  {
   "cell_type": "code",
   "execution_count": 5,
   "metadata": {},
   "outputs": [],
   "source": [
    "# Set random seed\n",
    "prng = np.random.RandomState(101)\n",
    "# Make a dictionary with labeled land uses\n",
    "biomass = {}\n",
    "for l in ls:\n",
    "    # Find args for this land use where the abundance is non-zero\n",
    "    args_temp = np.where(abd[l])[0]\n",
    "    # Get abundances just for this site\n",
    "    abd_temp = abd[l].iloc[args_temp]\n",
    "    # Now simulate that number of points for each species\n",
    "    biomass[l] = np.array([])\n",
    "    for mf in abd_temp.index:\n",
    "        # pull abd_temp[mf] number of points from a normal distribution\n",
    "        # where the mean is given by the mean in the main dataset\n",
    "        # and the standard deviation is given by the regression relationships above\n",
    "        mean = ad[ad['Data','MF']==mf]['Data','Body_Mass.mg.']\n",
    "        # Use the beetle regression\n",
    "        if (ad[ad['Data','MF']==mf]['Data','Order (new)'].values[0]=='Araneae'):\n",
    "            var = 10**(si+ss*np.log10(mean))\n",
    "        else:\n",
    "            var = 10**(bi+bs*np.log10(mean))\n",
    "        biomass[l] = np.append(biomass[l],\n",
    "                               st.norm.rvs(loc=mean,scale=np.sqrt(var),size=abd_temp[mf],random_state=prng))\n",
    "        # There is an issue here where depending on random seed we can get biomasses below zero, \n",
    "        # but let's ignore that."
   ]
  },
  {
   "cell_type": "code",
   "execution_count": 6,
   "metadata": {},
   "outputs": [
    {
     "name": "stdout",
     "output_type": "stream",
     "text": [
      "Problem point [-0.13374193]\n",
      "Should be empty []\n",
      "Previous minimum 0.09499822116490637\n",
      "Newly added [0.09613203]\n",
      "\n",
      "Problem point [-0.00992862]\n",
      "Should be empty []\n",
      "Previous minimum 0.018396147975869\n",
      "Newly added [0.01839378]\n",
      "\n"
     ]
    }
   ],
   "source": [
    "# For now put less than zeros to minimum in that area, but may change this later.\n",
    "# I added to this to remove duplicates so that the KS test can be trusted\n",
    "for l in ls:\n",
    "    inds = biomass[l]<0\n",
    "    if np.any(inds):\n",
    "        print(\"Problem point\",biomass[l][biomass[l]<0])\n",
    "        # To avoid duplicates, add a tiny noise to this.\n",
    "        biomass[l][inds] = np.min(biomass[l][~inds])*(1+0.01*st.norm.rvs(random_state=prng))\n",
    "        print(\"Should be empty\",biomass[l][biomass[l]<0])\n",
    "        print(\"Previous minimum\",np.min(biomass[l][~inds]))\n",
    "        print(\"Newly added\",biomass[l][inds])\n",
    "        print()"
   ]
  },
  {
   "cell_type": "code",
   "execution_count": 7,
   "metadata": {},
   "outputs": [],
   "source": [
    "# Now convert to metabolic rate\n",
    "mr = biomass.copy()\n",
    "for l in ls:\n",
    "    # Now sort the array, convert to metabolic rate (m \\propto e^(4/3)), and divide by smallest\n",
    "    # Order doesn't matter here\n",
    "    mr[l] = np.sort(mr[l]**(3/4))\n",
    "    # Note that this way, the e0 between the land uses actually isn't comparable \n",
    "    #because the smallest unit is different\n",
    "    mr[l] = mr[l]/mr[l][0]\n",
    "    \n",
    "for l in ls:\n",
    "    sne.loc[l,'e0'] = mr[l].sum()\n",
    "sne['l2'] = sne['s0']/(sne['e0']-sne['n0'])\n",
    "sne['l1'] = sne['beta']-sne['l2']"
   ]
  },
  {
   "cell_type": "code",
   "execution_count": 8,
   "metadata": {},
   "outputs": [],
   "source": [
    "# Check for duplicates\n",
    "for l in ls:\n",
    "    if len(np.unique(mr[l])) != len(mr[l]):\n",
    "        print(\"Ruh roh!\")"
   ]
  },
  {
   "cell_type": "markdown",
   "metadata": {},
   "source": [
    "# KS TEST"
   ]
  },
  {
   "cell_type": "markdown",
   "metadata": {},
   "source": [
    "## Goodness of fit and summary plots\n"
   ]
  },
  {
   "cell_type": "code",
   "execution_count": 10,
   "metadata": {},
   "outputs": [],
   "source": [
    "# KS test\n",
    "ks = pd.DataFrame(index=ls,columns=['D','p'],dtype='float64')\n",
    "\n",
    "for l in ls:\n",
    "    ks.loc[l] = st.kstest(mr[l], lambda x: sm.mrdi_cdf(x, (sne.loc[l,'l1'],sne.loc[l,'l2'])) )\n",
    "\n",
    "sne['ksD'] = ks['D']\n",
    "sne['ksp'] = ks['p']"
   ]
  },
  {
   "cell_type": "code",
   "execution_count": 11,
   "metadata": {},
   "outputs": [
    {
     "data": {
      "text/plain": [
       "Exotic forest           0.282735\n",
       "Native forest           0.289499\n",
       "Intensive pasture       0.380308\n",
       "Semi-natural pasture    0.443228\n",
       "Name: ksD, dtype: float64"
      ]
     },
     "metadata": {},
     "output_type": "display_data"
    },
    {
     "data": {
      "text/plain": [
       "Exotic forest           0.033803\n",
       "Native forest           0.011946\n",
       "Intensive pasture       0.024954\n",
       "Semi-natural pasture    0.030331\n",
       "Name: ksD, dtype: float64"
      ]
     },
     "metadata": {},
     "output_type": "display_data"
    }
   ],
   "source": [
    "# To get the standard error of the mean, we have to divide by sqrt(n)\n",
    "mean = sne['ksD'].mean(level=0)\n",
    "display(mean)\n",
    "se = sne['ksD'].std(level=0)\n",
    "for l in lu:\n",
    "    se.loc[l] /= np.sqrt(lu_sites[l])\n",
    "display(se)"
   ]
  },
  {
   "cell_type": "code",
   "execution_count": 12,
   "metadata": {},
   "outputs": [
    {
     "data": {
      "text/html": [
       "<div>\n",
       "<style scoped>\n",
       "    .dataframe tbody tr th:only-of-type {\n",
       "        vertical-align: middle;\n",
       "    }\n",
       "\n",
       "    .dataframe tbody tr th {\n",
       "        vertical-align: top;\n",
       "    }\n",
       "\n",
       "    .dataframe thead th {\n",
       "        text-align: right;\n",
       "    }\n",
       "</style>\n",
       "<table border=\"1\" class=\"dataframe\">\n",
       "  <thead>\n",
       "    <tr style=\"text-align: right;\">\n",
       "      <th></th>\n",
       "      <th>Exotic forest</th>\n",
       "      <th>Native forest</th>\n",
       "      <th>Intensive pasture</th>\n",
       "      <th>Semi-natural pasture</th>\n",
       "    </tr>\n",
       "  </thead>\n",
       "  <tbody>\n",
       "    <tr>\n",
       "      <th>Mean</th>\n",
       "      <td>0.282735</td>\n",
       "      <td>0.289499</td>\n",
       "      <td>0.380308</td>\n",
       "      <td>0.443228</td>\n",
       "    </tr>\n",
       "    <tr>\n",
       "      <th>Standard error</th>\n",
       "      <td>0.033803</td>\n",
       "      <td>0.011946</td>\n",
       "      <td>0.024954</td>\n",
       "      <td>0.030331</td>\n",
       "    </tr>\n",
       "  </tbody>\n",
       "</table>\n",
       "</div>"
      ],
      "text/plain": [
       "                Exotic forest  Native forest  Intensive pasture  \\\n",
       "Mean                 0.282735       0.289499           0.380308   \n",
       "Standard error       0.033803       0.011946           0.024954   \n",
       "\n",
       "                Semi-natural pasture  \n",
       "Mean                        0.443228  \n",
       "Standard error              0.030331  "
      ]
     },
     "metadata": {},
     "output_type": "display_data"
    }
   ],
   "source": [
    "ksD_data = pd.DataFrame([mean,se],index = ['Mean','Standard error'])\n",
    "display(ksD_data)\n",
    "ksD_data.to_csv(\"ProcessedData/mrdi_means_ksD.csv\")"
   ]
  },
  {
   "cell_type": "markdown",
   "metadata": {},
   "source": [
    "# LEAST SQUARES"
   ]
  },
  {
   "cell_type": "markdown",
   "metadata": {},
   "source": [
    "## Goodness of fit and summary plots"
   ]
  },
  {
   "cell_type": "code",
   "execution_count": 9,
   "metadata": {},
   "outputs": [],
   "source": [
    "# Use mean least squares\n",
    "mlsq = pd.Series(index=ls,dtype='float64')\n",
    "for l in ls:\n",
    "    ranks = np.arange(sne.loc[l,'n0'])+1\n",
    "#    print(ranks)\n",
    "#    print(sne.loc[l,'l1'],sne.loc[l,'l2'])\n",
    "#    print(sne.loc[l,'n0'])\n",
    "    pred = sm.mrdi_rank(ranks,(sne.loc[l,'l1'],sne.loc[l,'l2']),sne.loc[l,'n0'])\n",
    "    obs = mr[l][::-1]\n",
    "    # If we have any less than 0, ignore that because n0 is too small.\n",
    "    if np.any(pred <= 0):\n",
    "        mlsq[l] = np.nan\n",
    "    elif sne['n0'][l] == len(obs):\n",
    "        mlsq[l] = np.sum((np.log(obs)-np.log(pred))**2)/len(obs)\n",
    "    else:\n",
    "        print(\"Ruh ro!\")\n",
    "\n",
    "# modify number of sites with number of nans\n",
    "lu_sites_alt = lu_sites.copy()\n",
    "lu_sites_alt -= mlsq.isna().sum(level=0)\n",
    "        \n",
    "sne['mlsq'] = mlsq"
   ]
  },
  {
   "cell_type": "code",
   "execution_count": 10,
   "metadata": {},
   "outputs": [
    {
     "data": {
      "text/plain": [
       "Exotic forest           0.402112\n",
       "Native forest           0.473666\n",
       "Intensive pasture       0.671029\n",
       "Semi-natural pasture    0.812182\n",
       "Name: mlsq, dtype: float64"
      ]
     },
     "metadata": {},
     "output_type": "display_data"
    },
    {
     "data": {
      "text/plain": [
       "Exotic forest           0.076547\n",
       "Native forest           0.048898\n",
       "Intensive pasture       0.064003\n",
       "Semi-natural pasture    0.101602\n",
       "Name: mlsq, dtype: float64"
      ]
     },
     "metadata": {},
     "output_type": "display_data"
    }
   ],
   "source": [
    "# Note that .std in pandas already has ddof=1, which is correct here since we estimate the mean\n",
    "# To get the standard error of the mean, we have to divide by sqrt(n)\n",
    "mean = sne['mlsq'].mean(level=0)\n",
    "display(mean)\n",
    "se = sne['mlsq'].std(level=0)\n",
    "for l in lu:\n",
    "    se.loc[l] /= np.sqrt(lu_sites_alt[l])\n",
    "display(se)"
   ]
  },
  {
   "cell_type": "code",
   "execution_count": 11,
   "metadata": {
    "scrolled": true
   },
   "outputs": [
    {
     "data": {
      "text/html": [
       "<div>\n",
       "<style scoped>\n",
       "    .dataframe tbody tr th:only-of-type {\n",
       "        vertical-align: middle;\n",
       "    }\n",
       "\n",
       "    .dataframe tbody tr th {\n",
       "        vertical-align: top;\n",
       "    }\n",
       "\n",
       "    .dataframe thead th {\n",
       "        text-align: right;\n",
       "    }\n",
       "</style>\n",
       "<table border=\"1\" class=\"dataframe\">\n",
       "  <thead>\n",
       "    <tr style=\"text-align: right;\">\n",
       "      <th></th>\n",
       "      <th>Exotic forest</th>\n",
       "      <th>Native forest</th>\n",
       "      <th>Intensive pasture</th>\n",
       "      <th>Semi-natural pasture</th>\n",
       "    </tr>\n",
       "  </thead>\n",
       "  <tbody>\n",
       "    <tr>\n",
       "      <th>Mean</th>\n",
       "      <td>0.402112</td>\n",
       "      <td>0.473666</td>\n",
       "      <td>0.671029</td>\n",
       "      <td>0.812182</td>\n",
       "    </tr>\n",
       "    <tr>\n",
       "      <th>Standard error</th>\n",
       "      <td>0.076547</td>\n",
       "      <td>0.048898</td>\n",
       "      <td>0.064003</td>\n",
       "      <td>0.101602</td>\n",
       "    </tr>\n",
       "    <tr>\n",
       "      <th>N</th>\n",
       "      <td>12.000000</td>\n",
       "      <td>44.000000</td>\n",
       "      <td>24.000000</td>\n",
       "      <td>16.000000</td>\n",
       "    </tr>\n",
       "  </tbody>\n",
       "</table>\n",
       "</div>"
      ],
      "text/plain": [
       "                Exotic forest  Native forest  Intensive pasture  \\\n",
       "Mean                 0.402112       0.473666           0.671029   \n",
       "Standard error       0.076547       0.048898           0.064003   \n",
       "N                   12.000000      44.000000          24.000000   \n",
       "\n",
       "                Semi-natural pasture  \n",
       "Mean                        0.812182  \n",
       "Standard error              0.101602  \n",
       "N                          16.000000  "
      ]
     },
     "metadata": {},
     "output_type": "display_data"
    }
   ],
   "source": [
    "# save the means to file\n",
    "mlsq_data = pd.DataFrame([mean,se,lu_sites_alt],index=['Mean','Standard error','N'])\n",
    "display(mlsq_data)\n",
    "mlsq_data.to_csv('ProcessedData/mrdi_mlsq.csv')"
   ]
  },
  {
   "cell_type": "markdown",
   "metadata": {},
   "source": [
    "## Plots for each site"
   ]
  },
  {
   "cell_type": "code",
   "execution_count": 17,
   "metadata": {},
   "outputs": [
    {
     "name": "stderr",
     "output_type": "stream",
     "text": [
      "/Users/micbru/anaconda3/lib/python3.6/site-packages/ipykernel_launcher.py:42: UserWarning: Attempted to set non-positive left xlim on a log-scaled axis.\n",
      "Invalid limit will be ignored.\n",
      "/Users/micbru/anaconda3/lib/python3.6/site-packages/ipykernel_launcher.py:42: UserWarning: Attempted to set non-positive bottom ylim on a log-scaled axis.\n",
      "Invalid limit will be ignored.\n",
      "/Users/micbru/anaconda3/lib/python3.6/site-packages/ipykernel_launcher.py:42: UserWarning: Attempted to set non-positive left xlim on a log-scaled axis.\n",
      "Invalid limit will be ignored.\n",
      "/Users/micbru/anaconda3/lib/python3.6/site-packages/ipykernel_launcher.py:42: UserWarning: Attempted to set non-positive bottom ylim on a log-scaled axis.\n",
      "Invalid limit will be ignored.\n",
      "/Users/micbru/anaconda3/lib/python3.6/site-packages/ipykernel_launcher.py:42: UserWarning: Attempted to set non-positive left xlim on a log-scaled axis.\n",
      "Invalid limit will be ignored.\n",
      "/Users/micbru/anaconda3/lib/python3.6/site-packages/ipykernel_launcher.py:42: UserWarning: Attempted to set non-positive bottom ylim on a log-scaled axis.\n",
      "Invalid limit will be ignored.\n",
      "/Users/micbru/anaconda3/lib/python3.6/site-packages/ipykernel_launcher.py:42: UserWarning: Attempted to set non-positive left xlim on a log-scaled axis.\n",
      "Invalid limit will be ignored.\n",
      "/Users/micbru/anaconda3/lib/python3.6/site-packages/ipykernel_launcher.py:42: UserWarning: Attempted to set non-positive bottom ylim on a log-scaled axis.\n",
      "Invalid limit will be ignored.\n"
     ]
    },
    {
     "data": {
      "text/plain": [
       "<Figure size 720x936 with 0 Axes>"
      ]
     },
     "metadata": {},
     "output_type": "display_data"
    },
    {
     "data": {
      "text/plain": [
       "<Figure size 576x432 with 0 Axes>"
      ]
     },
     "metadata": {},
     "output_type": "display_data"
    },
    {
     "data": {
      "text/plain": [
       "<Figure size 576x576 with 0 Axes>"
      ]
     },
     "metadata": {},
     "output_type": "display_data"
    },
    {
     "data": {
      "text/plain": [
       "<Figure size 576x864 with 0 Axes>"
      ]
     },
     "metadata": {},
     "output_type": "display_data"
    }
   ],
   "source": [
    "# This is the new better colour scheme and better number of columns\n",
    "# Make color dictionary\n",
    "cdic = {lu[0]:'tab:green',lu[1]:'tab:blue',lu[2]:'tab:orange',lu[3]:'tab:red'}\n",
    "for l in lu:\n",
    "    nsites = len(ad[l].columns)\n",
    "    # For native forest we want a different array\n",
    "    if l == 'Native forest':\n",
    "        # Need to add an extra row\n",
    "        fig,axs = plt.subplots(int(nsites/6)+1,6,figsize=(10,13),\n",
    "                               sharex=True,sharey=True,constrained_layout=True)\n",
    "    else:\n",
    "        # Make 4 columns and appropriate number of rows\n",
    "        fig,axs = plt.subplots(int(nsites/4),4,figsize=(8,nsites/2),\n",
    "                               sharex=True,sharey=True,constrained_layout=True)\n",
    "    fig.suptitle(l)\n",
    "    # Get loge at the level of land use\n",
    "    loge = np.logspace(0,np.log10(np.max(sne.loc[l,'e0']))-1,100)\n",
    "    for s, ax in zip(ad[l].columns, fig.axes):\n",
    "        ax.set_title(s,y=0.85)\n",
    "\n",
    "        ranks = np.arange(sne.loc[(l,s),'n0'])+1\n",
    "        pred = sm.mrdi_rank(ranks,(sne.loc[(l,s),'l1'],sne.loc[(l,s),'l2']),sne.loc[(l,s),'n0'])\n",
    "\n",
    "        obs = mr[(l,s)][::-1]\n",
    "        ax.loglog(ranks,pred,c='tab:gray',label='METE')\n",
    "        ax.loglog(ranks,obs,'o',c=cdic[l],label='Obs.')\n",
    "        ax.minorticks_on()\n",
    "    # Now place legend and add remove plots for Native forest\n",
    "    if l=='Native forest':\n",
    "        axs[0,5].legend(loc='upper right', bbox_to_anchor=(1, 0.9))\n",
    "        for i in np.arange(4,dtype=int):\n",
    "            axs[7,i+2].axis('off')\n",
    "        # Turn on xlabels just here\n",
    "        for ax in axs[6,2:]:\n",
    "            ax.xaxis.set_tick_params(labelbottom=True)\n",
    "    else:\n",
    "        axs[0,3].legend(loc='upper right', bbox_to_anchor=(1, 0.9))\n",
    "    # Make common x and y axes\n",
    "    fig.text(-0.01, 0.5,'log(Metabolic rate)', va='center',rotation='vertical')\n",
    "    fig.text(0.5, -0.01,'log(Rank)', ha='center')\n",
    "    fig.savefig('Figures/SI/mrdi_{}.pdf'.format(l),bbox_inches='tight')\n",
    "    fig.clear()"
   ]
  },
  {
   "cell_type": "code",
   "execution_count": null,
   "metadata": {},
   "outputs": [],
   "source": [
    "# Colored res\n",
    "# Make color dictionary\n",
    "cdic = {lu[0]:'Greens',lu[1]:'Blues',lu[2]:'Oranges',lu[3]:'Reds'}\n",
    "\n",
    "fig,axs = plt.subplots(2,2,figsize=(8,8),sharex=True,constrained_layout=True)#,sharex=True,sharey=True)\n",
    "# Get max n0 for color\n",
    "n0max = np.log10(max(sne['n0']))\n",
    "for l, ax in zip(lu,fig.axes):\n",
    "    # Set title to index\n",
    "    ax.set_title(l,y=0.9)\n",
    "    # Set up xline\n",
    "    ax.axhline(0,c='k',zorder=0,lw=1)\n",
    "    # Now loop over every site\n",
    "    for s in ad[l].columns:\n",
    "        # Get ranks and predicted\n",
    "        ranks = np.arange(sne.loc[(l,s),'n0'])+1\n",
    "        obs = mr[(l,s)][::-1]\n",
    "        pred = sm.mrdi_rank(ranks,(sne.loc[(l,s),'l1'],sne.loc[(l,s),'l2']),sne.loc[(l,s),'n0'])\n",
    "        # Plot observed - predicted fractional\n",
    "        ax.plot(ranks/sne.loc[(l,s),'n0'],(np.log10(obs)-np.log10(pred)),\n",
    "                c=plt.get_cmap(cdic[l])(np.log10(sne.loc[(l,s),'n0'])/n0max),alpha=0.5)\n",
    "        # Set y limits\n",
    "        ax.set_ylim(-1.05,1.05)\n",
    "\n",
    "axs[1,0].set_xlabel(r'Rank/$N_0$')\n",
    "axs[1,1].set_xlabel(r'Rank/$N_0$')\n",
    "axs[0,0].set_ylabel(r'Residuals of $\\log_{10}$ metabolic rate')\n",
    "axs[1,0].set_ylabel(r'Residuals of $\\log_{10}$ metabolic rate')\n",
    "# Put colorbar legend, if we want\n",
    "#fig.colorbar(cm.ScalarMappable(cmap=plt.get_cmap('Greys')),ax=axs[:,1],shrink=0.7)\n",
    "\n",
    "fig.savefig('Figures/residuals_mrdi_rank_colored.pdf', bbox_inches='tight')\n"
   ]
  },
  {
   "cell_type": "code",
   "execution_count": null,
   "metadata": {},
   "outputs": [],
   "source": []
  }
 ],
 "metadata": {
  "kernelspec": {
   "display_name": "Python 3",
   "language": "python",
   "name": "python3"
  },
  "language_info": {
   "codemirror_mode": {
    "name": "ipython",
    "version": 3
   },
   "file_extension": ".py",
   "mimetype": "text/x-python",
   "name": "python",
   "nbconvert_exporter": "python",
   "pygments_lexer": "ipython3",
   "version": "3.6.13"
  }
 },
 "nbformat": 4,
 "nbformat_minor": 4
}
