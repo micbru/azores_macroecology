{
 "cells": [
  {
   "cell_type": "markdown",
   "metadata": {},
   "source": [
    "This file will plot the SADs for the adults and juveniles combined dataset by land use."
   ]
  },
  {
   "cell_type": "code",
   "execution_count": 8,
   "metadata": {},
   "outputs": [],
   "source": [
    "import numpy as np\n",
    "import pandas as pd\n",
    "import scipy.stats as st\n",
    "from scipy import integrate\n",
    "import matplotlib.pyplot as plt\n",
    "from scipy.optimize import fsolve\n",
    "import sad_mrdi as sm\n",
    "%matplotlib inline"
   ]
  },
  {
   "cell_type": "code",
   "execution_count": 9,
   "metadata": {},
   "outputs": [],
   "source": [
    "# Import data\n",
    "df = pd.read_csv('./RawData/Azores_Combined.csv',header=[0,1])"
   ]
  },
  {
   "cell_type": "code",
   "execution_count": 10,
   "metadata": {},
   "outputs": [
    {
     "name": "stdout",
     "output_type": "stream",
     "text": [
      "Native forest: 44 sites\n",
      "Exotic forest: 12 sites\n",
      "Semi-natural pasture: 16 sites\n",
      "Intensive pasture: 24 sites\n",
      "\n",
      "Number of species: 271\n",
      "Number of individuals: 46250\n"
     ]
    }
   ],
   "source": [
    "# Some more preamble and calculating some state variables\n",
    "\n",
    "# Verify we have the correct number of sites per land use\n",
    "print(\"Native forest: {} sites\".format(len(df['Native forest'].columns)))\n",
    "print(\"Exotic forest: {} sites\".format(len(df['Exotic forest'].columns)))\n",
    "print(\"Semi-natural pasture: {} sites\".format(len(df['Semi-natural pasture'].columns)))\n",
    "print(\"Intensive pasture: {} sites\".format(len(df['Intensive pasture'].columns)))\n",
    "print()\n",
    "# Get total s0\n",
    "s0 = len(df)\n",
    "print('Number of species: {}'.format(s0)) # Or ad['Data','MF'].nunique()\n",
    "# Practice some fancy indexing (more here https://pandas.pydata.org/pandas-docs/stable/user_guide/advanced.html)\n",
    "# Get land use types\n",
    "lu = list(df.columns.levels[0])\n",
    "lu.remove('Data')\n",
    "# Reorder to disturbance gradient\n",
    "lu = [lu[2],lu[0],lu[3],lu[1]]\n",
    "# Get length to use to loop over etc.\n",
    "lutypes = len(lu)\n",
    "# Get total n0\n",
    "n0 = df[lu].sum().sum()\n",
    "print('Number of individuals: {}'.format(n0))"
   ]
  },
  {
   "cell_type": "markdown",
   "metadata": {},
   "source": [
    "# Abundances"
   ]
  },
  {
   "cell_type": "code",
   "execution_count": 11,
   "metadata": {},
   "outputs": [
    {
     "data": {
      "text/html": [
       "<div>\n",
       "<style scoped>\n",
       "    .dataframe tbody tr th:only-of-type {\n",
       "        vertical-align: middle;\n",
       "    }\n",
       "\n",
       "    .dataframe tbody tr th {\n",
       "        vertical-align: top;\n",
       "    }\n",
       "\n",
       "    .dataframe thead th {\n",
       "        text-align: right;\n",
       "    }\n",
       "</style>\n",
       "<table border=\"1\" class=\"dataframe\">\n",
       "  <thead>\n",
       "    <tr style=\"text-align: right;\">\n",
       "      <th></th>\n",
       "      <th>beta</th>\n",
       "      <th>n0</th>\n",
       "      <th>s0</th>\n",
       "    </tr>\n",
       "  </thead>\n",
       "  <tbody>\n",
       "    <tr>\n",
       "      <th>Native forest</th>\n",
       "      <td>0.002377</td>\n",
       "      <td>10291</td>\n",
       "      <td>148</td>\n",
       "    </tr>\n",
       "    <tr>\n",
       "      <th>Exotic forest</th>\n",
       "      <td>0.004800</td>\n",
       "      <td>3385</td>\n",
       "      <td>87</td>\n",
       "    </tr>\n",
       "    <tr>\n",
       "      <th>Semi-natural pasture</th>\n",
       "      <td>0.001750</td>\n",
       "      <td>11421</td>\n",
       "      <td>127</td>\n",
       "    </tr>\n",
       "    <tr>\n",
       "      <th>Intensive pasture</th>\n",
       "      <td>0.000919</td>\n",
       "      <td>21153</td>\n",
       "      <td>136</td>\n",
       "    </tr>\n",
       "  </tbody>\n",
       "</table>\n",
       "</div>"
      ],
      "text/plain": [
       "                          beta     n0   s0\n",
       "Native forest         0.002377  10291  148\n",
       "Exotic forest         0.004800   3385   87\n",
       "Semi-natural pasture  0.001750  11421  127\n",
       "Intensive pasture     0.000919  21153  136"
      ]
     },
     "execution_count": 11,
     "metadata": {},
     "output_type": "execute_result"
    }
   ],
   "source": [
    "# Get s0 and n0 for each different environment\n",
    "\n",
    "# Make arrays\n",
    "# For s,n,beta\n",
    "sn_lu = pd.DataFrame(index=lu,columns = {'s0','n0','beta'})\n",
    "# For abundances\n",
    "abd_lu = pd.DataFrame(columns=lu)\n",
    "for l in lu:\n",
    "    abd_lu[l] = df[l].sum(axis=1)\n",
    "    # Get n0 and s0\n",
    "    stemp = np.count_nonzero(abd_lu[l])\n",
    "    ntemp = abd_lu[l].sum()\n",
    "    # Get beta\n",
    "    btemp = sm.get_beta(stemp,ntemp)\n",
    "    # Add to dataframe\n",
    "    sn_lu.loc[l] = {'n0': ntemp, 's0': stemp, 'beta': btemp}\n",
    "\n",
    "# Rename indexes for abundaces to species code\n",
    "abd_lu.rename(index=df['Data','MF'],inplace=True)\n",
    "abd_lu.index.name = 'MF'\n",
    "\n",
    "# Fix datatype for sn_lu\n",
    "sn_lu = sn_lu.astype({'s0': 'int64','n0':'int64','beta':'float64'})\n",
    "\n",
    "sn_lu"
   ]
  },
  {
   "cell_type": "markdown",
   "metadata": {},
   "source": [
    "# Goodness of fit"
   ]
  },
  {
   "cell_type": "markdown",
   "metadata": {},
   "source": [
    "### Mean least squares"
   ]
  },
  {
   "cell_type": "code",
   "execution_count": 12,
   "metadata": {},
   "outputs": [
    {
     "name": "stdout",
     "output_type": "stream",
     "text": [
      "Mean least squares\n"
     ]
    },
    {
     "data": {
      "text/plain": [
       "Native forest           0.491278\n",
       "Exotic forest           0.689149\n",
       "Semi-natural pasture    1.257251\n",
       "Intensive pasture       0.331208\n",
       "dtype: float64"
      ]
     },
     "metadata": {},
     "output_type": "display_data"
    }
   ],
   "source": [
    "# Get least squares for each site\n",
    "# Create new array for empirical log likelihood\n",
    "mlsq = pd.Series(index=lu,dtype='float64')\n",
    "\n",
    "for l in lu:\n",
    "    ranks = np.arange(sn_lu['s0'][l])+1\n",
    "    theory = sm.sad_rank(ranks,sn_lu['s0'][l],sn_lu['beta'][l])\n",
    "    abd = abd_lu[l]\n",
    "    emp = np.sort(abd[abd!=0])[::-1]\n",
    "    # Calculate least squares of log\n",
    "    if sn_lu['s0'][l] == len(emp):\n",
    "        if sn_lu['n0'][l] == sum(emp):\n",
    "            mlsq[l] = np.sum((np.log(theory)-np.log(emp))**2)/len(emp)\n",
    "        else:\n",
    "            print(\"Ruh ro! 1\")\n",
    "    else:\n",
    "        print(\"Ruh ro! 2\")\n",
    "print('Mean least squares')\n",
    "display(mlsq)\n",
    "sn_lu['mlsq'] = mlsq"
   ]
  },
  {
   "cell_type": "markdown",
   "metadata": {},
   "source": [
    "# Plots"
   ]
  },
  {
   "cell_type": "code",
   "execution_count": 13,
   "metadata": {},
   "outputs": [
    {
     "data": {
      "image/png": "[encoded data removed]",
      "text/plain": [
       "<Figure size 432x432 with 4 Axes>"
      ]
     },
     "metadata": {
      "needs_background": "light"
     },
     "output_type": "display_data"
    }
   ],
   "source": [
    "clist = {lu[0]:'tab:green',lu[1]:'tab:blue',lu[2]:'tab:orange',lu[3]:'tab:red'}\n",
    "fig,axs = plt.subplots(2,2,figsize=(6,6),sharex=True,sharey=True,constrained_layout=True)\n",
    "for l, ax in zip(lu,fig.axes):\n",
    "    # Set title to index\n",
    "    ax.set_title(l,y=0.9)\n",
    "    # Plot theoretical SAD\n",
    "    ranks = np.arange(sn_lu['s0'][l])+1\n",
    "    ax.semilogy(ranks,sm.sad_rank(ranks,sn_lu['s0'][l],sn_lu['beta'][l]),c='tab:gray',label='METE')\n",
    "    # Plot empirical SAD\n",
    "    abd = np.sort(abd_lu[l].values)[::-1]\n",
    "    ax.semilogy(ranks,abd[abd != 0],'o',c=clist[l],label='Obs.')\n",
    "\n",
    "mete, = axs[0,1].semilogy([],[],c='tab:gray',label='METE')\n",
    "obs, = axs[0,1].semilogy([],[],'o',c='tab:gray',label='Obs.')\n",
    "\n",
    "axs[0,1].legend(handles=[mete,obs],loc=(0.65,0.7))#'center right')\n",
    "\n",
    "axs[0,0].set_ylabel('Abundance')\n",
    "axs[1,0].set_ylabel('Abundance')\n",
    "axs[1,0].set_xlabel('Rank')\n",
    "axs[1,1].set_xlabel('Rank')\n",
    "\n",
    "fig.savefig('Figures/SI/SAD_LandUse.pdf')"
   ]
  },
  {
   "cell_type": "code",
   "execution_count": 14,
   "metadata": {},
   "outputs": [],
   "source": [
    "sn_lu.to_csv('ProcessedData/sad_combined_data.csv')"
   ]
  },
  {
   "cell_type": "code",
   "execution_count": null,
   "metadata": {},
   "outputs": [],
   "source": []
  }
 ],
 "metadata": {
  "kernelspec": {
   "display_name": "Python 3",
   "language": "python",
   "name": "python3"
  },
  "language_info": {
   "codemirror_mode": {
    "name": "ipython",
    "version": 3
   },
   "file_extension": ".py",
   "mimetype": "text/x-python",
   "name": "python",
   "nbconvert_exporter": "python",
   "pygments_lexer": "ipython3",
   "version": "3.6.13"
  }
 },
 "nbformat": 4,
 "nbformat_minor": 4
}
