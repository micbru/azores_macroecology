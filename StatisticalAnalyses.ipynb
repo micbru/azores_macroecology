{
 "cells": [
  {
   "cell_type": "markdown",
   "id": "9b1a6387",
   "metadata": {},
   "source": [
    "This file reproduces the tables in the supporting information for the ANOVA + Tukey test and the Kruskal-Wallis + Dunn test. While the tables in the SI only present the ANOVA for the log transformed means, here we will also do an ANOVA analysis on the untransformed data. The statistical results here support the visual conclusions of Fig. 1a."
   ]
  },
  {
   "cell_type": "code",
   "execution_count": 9,
   "id": "e3e46105",
   "metadata": {},
   "outputs": [],
   "source": [
    "import numpy as np\n",
    "import pandas as pd\n",
    "import scipy.stats as st\n",
    "from statsmodels.stats.multicomp import pairwise_tukeyhsd\n",
    "import statsmodels.api as sm\n",
    "import scikit_posthocs as sp\n",
    "import matplotlib.pyplot as plt\n",
    "%matplotlib inline"
   ]
  },
  {
   "cell_type": "code",
   "execution_count": 20,
   "id": "58305bcc",
   "metadata": {},
   "outputs": [],
   "source": [
    "# Prefix where all of the files are located\n",
    "fn = \"ProcessedData/\"\n",
    "\n",
    "# Read in files\n",
    "sad = pd.read_csv(fn+\"sad_data.csv\",index_col=(0,1))\n",
    "mrdi = pd.read_csv(fn+\"mrdi_data.csv\",index_col=(0,1))\n",
    "sar = pd.read_csv(fn+\"sar_data.csv\",index_col=(0,1))\n",
    "\n",
    "# Define land use types\n",
    "lu = ['Native forest','Exotic forest','Intensive pasture','Semi-natural pasture']\n",
    "# make a dictionary relating lu_sar to lu\n",
    "lusar = {'Native forest':'Native vegetation','Exotic forest':'Exotic forest - mono',\n",
    "         'Intensive pasture':'Pasture - intensive','Semi-natural pasture':'Pasture - semi-natural'}"
   ]
  },
  {
   "cell_type": "markdown",
   "id": "92f7cddf",
   "metadata": {},
   "source": [
    "# ANOVA\n",
    "\n",
    "## Log-transformed means\n",
    "First do this with the log transformed means as they are more normal looking."
   ]
  },
  {
   "cell_type": "code",
   "execution_count": 21,
   "id": "3c180388",
   "metadata": {},
   "outputs": [
    {
     "name": "stdout",
     "output_type": "stream",
     "text": [
      "Native forest\n",
      "ShapiroResult(statistic=0.9814385771751404, pvalue=0.6912303566932678)\n",
      "ShapiroResult(statistic=0.9602072238922119, pvalue=0.13248685002326965)\n",
      "ShapiroResult(statistic=0.9681026935577393, pvalue=0.2589399516582489)\n",
      "Exotic forest\n",
      "ShapiroResult(statistic=0.9533556699752808, pvalue=0.686435878276825)\n",
      "ShapiroResult(statistic=0.9292868375778198, pvalue=0.3726140558719635)\n",
      "ShapiroResult(statistic=0.9546281099319458, pvalue=0.705285370349884)\n",
      "Intensive pasture\n",
      "ShapiroResult(statistic=0.9568167328834534, pvalue=0.3778629004955292)\n",
      "ShapiroResult(statistic=0.9725310206413269, pvalue=0.7295070290565491)\n",
      "ShapiroResult(statistic=0.9574849605560303, pvalue=0.390006422996521)\n",
      "Semi-natural pasture\n",
      "ShapiroResult(statistic=0.9418251514434814, pvalue=0.3719746768474579)\n",
      "ShapiroResult(statistic=0.9317705035209656, pvalue=0.2600215673446655)\n",
      "ShapiroResult(statistic=0.9325535297393799, pvalue=0.4734736979007721)\n",
      "\n",
      " Levene\n",
      "LeveneResult(statistic=1.8379341543273866, pvalue=0.14576105684455662)\n",
      "LeveneResult(statistic=2.4840588774535624, pvalue=0.06566512074893328)\n",
      "LeveneResult(statistic=0.9770599902666142, pvalue=0.4074666005954226)\n"
     ]
    },
    {
     "name": "stderr",
     "output_type": "stream",
     "text": [
      "/Users/micbru/anaconda3/lib/python3.6/site-packages/ipykernel_launcher.py:5: RuntimeWarning: invalid value encountered in log\n",
      "  \"\"\"\n"
     ]
    }
   ],
   "source": [
    "# Test for normality\n",
    "for l in lu:\n",
    "    print(l)\n",
    "    print(st.shapiro(np.log(sad).loc[l,'mlsq']))\n",
    "    print(st.shapiro(np.log(mrdi).loc[l,'mlsq']))\n",
    "    print(st.shapiro(np.log(sar).loc[lusar[l],'z']))\n",
    "    \n",
    "# Test for equal variance\n",
    "print(\"\\n Levene\")\n",
    "print(st.levene(np.log(sad.loc['Native forest','mlsq']),np.log(sad.loc['Exotic forest','mlsq']),\n",
    "         np.log(sad.loc['Semi-natural pasture','mlsq']),np.log(sad.loc['Intensive pasture','mlsq'])))\n",
    "print(st.levene(np.log(mrdi.loc['Native forest','mlsq']),np.log(mrdi.loc['Exotic forest','mlsq']),\n",
    "         np.log(mrdi.loc['Semi-natural pasture','mlsq']),np.log(mrdi.loc['Intensive pasture','mlsq'])))\n",
    "print(st.levene(np.log(sar.loc['Native vegetation','z']),np.log(sar.loc['Exotic forest - mono','z']),\n",
    "         np.log(sar.loc['Pasture - semi-natural','z']),np.log(sar.loc['Pasture - intensive','z'])))"
   ]
  },
  {
   "cell_type": "code",
   "execution_count": 13,
   "id": "8c2d8445",
   "metadata": {},
   "outputs": [
    {
     "name": "stdout",
     "output_type": "stream",
     "text": [
      "F_onewayResult(statistic=16.676053064006265, pvalue=9.86385849946747e-09)\n",
      "F_onewayResult(statistic=7.006093995648121, pvalue=0.0002694359541480958)\n",
      "F_onewayResult(statistic=1.85705669368556, pvalue=0.1429339013917591)\n"
     ]
    }
   ],
   "source": [
    "# ANOVA for SAD\n",
    "anova_lsad = st.f_oneway(np.log(sad.loc['Native forest','mlsq']),np.log(sad.loc['Exotic forest','mlsq']),\n",
    "         np.log(sad.loc['Semi-natural pasture','mlsq']),np.log(sad.loc['Intensive pasture','mlsq']))\n",
    "print(anova_lsad)\n",
    "# ANOVa for MRDI\n",
    "anova_lmrdi = st.f_oneway(np.log(mrdi.loc['Native forest','mlsq']),np.log(mrdi.loc['Exotic forest','mlsq']),\n",
    "         np.log(mrdi.loc['Semi-natural pasture','mlsq']),np.log(mrdi.loc['Intensive pasture','mlsq']))\n",
    "print(anova_lmrdi)\n",
    "# ANOVA for SAR\n",
    "anova_lsar = st.f_oneway(np.log(sar.loc['Native vegetation','z']),np.log(sar.loc['Exotic forest - mono','z']),\n",
    "         np.log(sar.loc['Pasture - semi-natural','z']),np.log(sar.loc['Pasture - intensive','z']))\n",
    "print(anova_lsar)"
   ]
  },
  {
   "cell_type": "code",
   "execution_count": 14,
   "id": "4291cf87",
   "metadata": {},
   "outputs": [
    {
     "name": "stdout",
     "output_type": "stream",
     "text": [
      "             Multiple Comparison of Means - Tukey HSD, FWER=0.05             \n",
      "=============================================================================\n",
      "      group1             group2        meandiff p-adj   lower   upper  reject\n",
      "-----------------------------------------------------------------------------\n",
      "    Exotic forest    Intensive pasture   0.0815    0.9 -0.7045  0.8675  False\n",
      "    Exotic forest        Native forest   -0.604 0.1356  -1.328    0.12  False\n",
      "    Exotic forest Semi-natural pasture   1.1278 0.0043  0.2788  1.9768   True\n",
      "Intensive pasture        Native forest  -0.6855 0.0107 -1.2497 -0.1213   True\n",
      "Intensive pasture Semi-natural pasture   1.0463 0.0014  0.3288  1.7639   True\n",
      "    Native forest Semi-natural pasture   1.7318  0.001  1.0828  2.3809   True\n",
      "-----------------------------------------------------------------------------\n",
      "             Multiple Comparison of Means - Tukey HSD, FWER=0.05             \n",
      "=============================================================================\n",
      "      group1             group2        meandiff p-adj   lower   upper  reject\n",
      "-----------------------------------------------------------------------------\n",
      "    Exotic forest    Intensive pasture    0.594  0.047  0.0055  1.1825   True\n",
      "    Exotic forest        Native forest   0.1052    0.9 -0.4369  0.6473  False\n",
      "    Exotic forest Semi-natural pasture   0.7843 0.0092  0.1486    1.42   True\n",
      "Intensive pasture        Native forest  -0.4888 0.0166 -0.9112 -0.0664   True\n",
      "Intensive pasture Semi-natural pasture   0.1903 0.7657 -0.3469  0.7275  False\n",
      "    Native forest Semi-natural pasture   0.6791 0.0024  0.1932  1.1651   True\n",
      "-----------------------------------------------------------------------------\n"
     ]
    }
   ],
   "source": [
    "# So only SAD and MRDI are significant again\n",
    "# Tukey for SAD\n",
    "tukey_lsad = pairwise_tukeyhsd(endog=np.log(sad['mlsq']),groups=sad.index.get_level_values(0),alpha=0.05)\n",
    "print(tukey_lsad)\n",
    "# So Exotic forest and intensive pasture and native forest are not different, everything else is\n",
    "# Tukey for MRDI\n",
    "tukey_lmrdi = pairwise_tukeyhsd(endog=np.log(mrdi['mlsq']),groups=mrdi.index.get_level_values(0),alpha=0.05)\n",
    "print(tukey_lmrdi)\n",
    "# Here only exotic forest/semi-natural pasture and native forest/semi-natural pasture are different.\n",
    "# as well as intensive pasture/exotic/native forest now"
   ]
  },
  {
   "cell_type": "markdown",
   "id": "3874f528",
   "metadata": {},
   "source": [
    "## Untransformed data"
   ]
  },
  {
   "cell_type": "code",
   "execution_count": 15,
   "id": "21b85c1f",
   "metadata": {},
   "outputs": [
    {
     "name": "stdout",
     "output_type": "stream",
     "text": [
      "Exotic forest\n",
      "ShapiroResult(statistic=0.6802499890327454, pvalue=0.0005473971250467002)\n",
      "ShapiroResult(statistic=0.8476961255073547, pvalue=0.03438911959528923)\n",
      "ShapiroResult(statistic=0.7955819368362427, pvalue=0.008349239826202393)\n",
      "Native forest\n",
      "ShapiroResult(statistic=0.840614914894104, pvalue=2.5427603759453632e-05)\n",
      "ShapiroResult(statistic=0.8869012594223022, pvalue=0.00044119407539255917)\n",
      "ShapiroResult(statistic=0.7544516921043396, pvalue=3.411145428344753e-07)\n",
      "Intensive pasture\n",
      "ShapiroResult(statistic=0.863813579082489, pvalue=0.003989000804722309)\n",
      "ShapiroResult(statistic=0.9386107921600342, pvalue=0.15188829600811005)\n",
      "ShapiroResult(statistic=0.734576940536499, pvalue=2.989935819641687e-05)\n",
      "Semi-natural pasture\n",
      "ShapiroResult(statistic=0.9393105506896973, pvalue=0.34065431356430054)\n",
      "ShapiroResult(statistic=0.8789730072021484, pvalue=0.03740295395255089)\n",
      "ShapiroResult(statistic=0.9554603099822998, pvalue=0.7331314086914062)\n",
      "\n",
      " Levene\n",
      "LeveneResult(statistic=10.774295705009225, pvalue=3.9113267294825776e-06)\n",
      "LeveneResult(statistic=0.6536078350407329, pvalue=0.5827021900334752)\n",
      "LeveneResult(statistic=0.1341151609587186, pvalue=0.939471129433531)\n"
     ]
    }
   ],
   "source": [
    "# Test for normality\n",
    "for l in lu:\n",
    "    print(l)\n",
    "    print(st.shapiro(sad.loc[l,'mlsq']))\n",
    "    print(st.shapiro(mrdi.loc[l,'mlsq']))\n",
    "    print(st.shapiro(sar.loc[lusar[l],'z']))\n",
    "    \n",
    "# Test for equal variance\n",
    "print(\"\\n Levene\")\n",
    "print(st.levene(sad.loc['Native forest','mlsq'],sad.loc['Exotic forest','mlsq'],\n",
    "             sad.loc['Semi-natural pasture','mlsq'],sad.loc['Intensive pasture','mlsq']))\n",
    "print(st.levene(mrdi.loc['Native forest','mlsq'],mrdi.loc['Exotic forest','mlsq'],\n",
    "             mrdi.loc['Semi-natural pasture','mlsq'],mrdi.loc['Intensive pasture','mlsq']))\n",
    "print(st.levene(sar.loc['Native vegetation','z'],sar.loc['Exotic forest - mono','z'],\n",
    "             sar.loc['Pasture - semi-natural','z'],sar.loc['Pasture - intensive','z']))"
   ]
  },
  {
   "cell_type": "code",
   "execution_count": 16,
   "id": "6df3a69c",
   "metadata": {},
   "outputs": [
    {
     "name": "stdout",
     "output_type": "stream",
     "text": [
      "F_onewayResult(statistic=19.514623663408813, pvalue=7.097171564841424e-10)\n",
      "F_onewayResult(statistic=5.897253854811053, pvalue=0.0009992889949524612)\n",
      "F_onewayResult(statistic=0.857848885598302, pvalue=0.46624666378802015)\n"
     ]
    }
   ],
   "source": [
    "# ANOVA for SAD\n",
    "anova_sad = st.f_oneway(sad.loc['Native forest','mlsq'],sad.loc['Exotic forest','mlsq'],\n",
    "         sad.loc['Semi-natural pasture','mlsq'],sad.loc['Intensive pasture','mlsq'])\n",
    "print(anova_sad)\n",
    "# ANOVa for MRDI\n",
    "anova_mrdi = st.f_oneway(mrdi.loc['Native forest','mlsq'],mrdi.loc['Exotic forest','mlsq'],\n",
    "         mrdi.loc['Semi-natural pasture','mlsq'],mrdi.loc['Intensive pasture','mlsq'])\n",
    "print(anova_mrdi)\n",
    "# ANOVA for SAR\n",
    "anova_sar = st.f_oneway(sar.loc['Native vegetation','z'],sar.loc['Exotic forest - mono','z'],\n",
    "         sar.loc['Pasture - semi-natural','z'],sar.loc['Pasture - intensive','z'])\n",
    "print(anova_sar)"
   ]
  },
  {
   "cell_type": "code",
   "execution_count": 17,
   "id": "80d43a95",
   "metadata": {},
   "outputs": [
    {
     "name": "stdout",
     "output_type": "stream",
     "text": [
      "             Multiple Comparison of Means - Tukey HSD, FWER=0.05             \n",
      "=============================================================================\n",
      "      group1             group2        meandiff p-adj   lower   upper  reject\n",
      "-----------------------------------------------------------------------------\n",
      "    Exotic forest    Intensive pasture   0.0459    0.9  -0.217  0.3089  False\n",
      "    Exotic forest        Native forest  -0.1534 0.3526 -0.3956  0.0888  False\n",
      "    Exotic forest Semi-natural pasture     0.48  0.001   0.196   0.764   True\n",
      "Intensive pasture        Native forest  -0.1993 0.0343 -0.3881 -0.0106   True\n",
      "Intensive pasture Semi-natural pasture   0.4341  0.001   0.194  0.6741   True\n",
      "    Native forest Semi-natural pasture   0.6334  0.001  0.4163  0.8505   True\n",
      "-----------------------------------------------------------------------------\n",
      "            Multiple Comparison of Means - Tukey HSD, FWER=0.05             \n",
      "============================================================================\n",
      "      group1             group2        meandiff p-adj   lower  upper  reject\n",
      "----------------------------------------------------------------------------\n",
      "    Exotic forest    Intensive pasture   0.2689 0.1049 -0.0366 0.5745  False\n",
      "    Exotic forest        Native forest   0.0716    0.9 -0.2099  0.353  False\n",
      "    Exotic forest Semi-natural pasture   0.4101 0.0086    0.08 0.7401   True\n",
      "Intensive pasture        Native forest  -0.1974 0.0933 -0.4167  0.022  False\n",
      "Intensive pasture Semi-natural pasture   0.1412 0.5444 -0.1378 0.4201  False\n",
      "    Native forest Semi-natural pasture   0.3385 0.0038  0.0862 0.5908   True\n",
      "----------------------------------------------------------------------------\n"
     ]
    }
   ],
   "source": [
    "# So only SAD and MRDI are significant actually\n",
    "# Tukey for SAD\n",
    "tukey_sad = pairwise_tukeyhsd(endog=sad['mlsq'],groups=sad.index.get_level_values(0),alpha=0.05)\n",
    "print(tukey_sad)\n",
    "# So Exotic forest and intensive pasture and native forest are not different, everything else is\n",
    "# Tukey for MRDI\n",
    "tukey_mrdi = pairwise_tukeyhsd(endog=mrdi['mlsq'],groups=mrdi.index.get_level_values(0),alpha=0.05)\n",
    "print(tukey_mrdi)\n",
    "# Here only exotic forest/semi-natural pasture and native forest/semi-natural pasture are different."
   ]
  },
  {
   "cell_type": "markdown",
   "id": "9346cd48",
   "metadata": {},
   "source": [
    "# Kruskal-Wallis"
   ]
  },
  {
   "cell_type": "code",
   "execution_count": 18,
   "id": "ad200511",
   "metadata": {},
   "outputs": [
    {
     "name": "stdout",
     "output_type": "stream",
     "text": [
      "SAD:  KruskalResult(statistic=32.19757009528274, pvalue=4.75497039418186e-07)\n",
      "MRDI:  KruskalResult(statistic=17.38161170337395, pvalue=0.0005898399529856882)\n",
      "SAR:  KruskalResult(statistic=5.445404595404625, pvalue=0.14194073826988712)\n"
     ]
    }
   ],
   "source": [
    "# Now kruskal-wallis test\n",
    "\n",
    "kwp_sad = st.kruskal(sad.loc[lu[0],'mlsq'],sad.loc[lu[1],'mlsq'],sad.loc[lu[2],'mlsq'],sad.loc[lu[3],'mlsq'])\n",
    "print(\"SAD: \",kwp_sad)\n",
    "\n",
    "kwp_mrdi = st.kruskal(mrdi.loc[lu[0],'mlsq'],mrdi.loc[lu[1],'mlsq'],mrdi.loc[lu[2],'mlsq'],mrdi.loc[lu[3],'mlsq'])\n",
    "print(\"MRDI: \",kwp_mrdi)\n",
    "\n",
    "kwp_sar = st.kruskal(sar.loc[lusar[lu[0]],'z'],sar.loc[lusar[lu[1]],'z'],\n",
    "                     sar.loc[lusar[lu[2]],'z'],sar.loc[lusar[lu[3]],'z'])\n",
    "print(\"SAR: \", kwp_sar)"
   ]
  },
  {
   "cell_type": "code",
   "execution_count": 19,
   "id": "ccfdabc6",
   "metadata": {},
   "outputs": [
    {
     "name": "stdout",
     "output_type": "stream",
     "text": [
      "SAD\n",
      "              1         2             3         4\n",
      "1  1.000000e+00  0.411397  1.698702e-07  0.031504\n",
      "2  4.113969e-01  1.000000  4.276472e-02  1.000000\n",
      "3  1.698702e-07  0.042765  1.000000e+00  0.028193\n",
      "4  3.150398e-02  1.000000  2.819321e-02  1.000000\n",
      "MRDI\n",
      "          1         2         3         4\n",
      "1  1.000000  1.000000  0.006162  0.048558\n",
      "2  1.000000  1.000000  0.012895  0.073570\n",
      "3  0.006162  0.012895  1.000000  1.000000\n",
      "4  0.048558  0.073570  1.000000  1.000000\n"
     ]
    }
   ],
   "source": [
    "# And post hoc Dunn test\n",
    "# Set up data in order: Native, Exotic, Semi-natural, Intensive\n",
    "sad_dunn = [sad.loc[lu[1],'mlsq'],sad.loc[lu[0],'mlsq'],sad.loc[lu[3],'mlsq'],sad.loc[lu[2],'mlsq']]\n",
    "mrdi_dunn = [mrdi.loc[lu[1],'mlsq'],mrdi.loc[lu[0],'mlsq'],mrdi.loc[lu[3],'mlsq'],mrdi.loc[lu[2],'mlsq']]\n",
    "print(\"SAD\")\n",
    "print(sp.posthoc_dunn(sad_dunn, p_adjust = 'bonferroni'))\n",
    "print(\"MRDI\")\n",
    "print(sp.posthoc_dunn(mrdi_dunn, p_adjust = 'bonferroni'))"
   ]
  },
  {
   "cell_type": "markdown",
   "id": "47e6de0e",
   "metadata": {},
   "source": [
    "So significantly different for SAD are:\n",
    "\n",
    "- Semi-natural pasture and everything\n",
    "- Intensive pasture and both native forest and semi-natural pasture, but not exotic forest\n",
    "\n",
    "And for MRDI:\n",
    "\n",
    "- Semi-natural pasture and both forest sites\n",
    "- Intensive pasture and native forest (barely)"
   ]
  },
  {
   "cell_type": "markdown",
   "id": "59c05160",
   "metadata": {},
   "source": [
    "# Bonus plot to show distribution of data"
   ]
  },
  {
   "cell_type": "code",
   "execution_count": 10,
   "id": "dd5c7626",
   "metadata": {},
   "outputs": [
    {
     "data": {
      "image/png": "[encoded data removed]",
      "text/plain": [
       "<Figure size 576x576 with 4 Axes>"
      ]
     },
     "metadata": {
      "needs_background": "light"
     },
     "output_type": "display_data"
    }
   ],
   "source": [
    "# This is just to look at the distribution of the mlsq. \n",
    "# I just have it so I have to redo it for each of SAD, MRDI, and SAR for now by uncommenting.\n",
    "\n",
    "fig,axs = plt.subplots(2,2,figsize=(8,8),sharex=True,constrained_layout=True)#,sharex=True,sharey=True)\n",
    "# Make color dictionary\n",
    "cdic = {lu[0]:'Greens',lu[1]:'Blues',lu[2]:'Oranges',lu[3]:'Reds'}\n",
    "\n",
    "for l, ax in zip(lu,fig.axes):\n",
    "    # Set title to index\n",
    "    ax.set_title(l,y=0.9)\n",
    "    ax.hist(np.log(sad.loc[l,'mlsq']))\n",
    "    #ax.hist(np.log(mrdi.loc[l,'mlsq']))\n",
    "    #ax.hist(np.log(sar.loc[lusar[l],'z']))"
   ]
  },
  {
   "cell_type": "code",
   "execution_count": null,
   "id": "b6de3c09",
   "metadata": {},
   "outputs": [],
   "source": []
  }
 ],
 "metadata": {
  "kernelspec": {
   "display_name": "Python 3",
   "language": "python",
   "name": "python3"
  },
  "language_info": {
   "codemirror_mode": {
    "name": "ipython",
    "version": 3
   },
   "file_extension": ".py",
   "mimetype": "text/x-python",
   "name": "python",
   "nbconvert_exporter": "python",
   "pygments_lexer": "ipython3",
   "version": "3.6.13"
  }
 },
 "nbformat": 4,
 "nbformat_minor": 5
}
